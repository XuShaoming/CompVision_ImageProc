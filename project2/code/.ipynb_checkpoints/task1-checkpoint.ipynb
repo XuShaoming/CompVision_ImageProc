{
 "cells": [
  {
   "cell_type": "code",
   "execution_count": 1,
   "metadata": {},
   "outputs": [],
   "source": [
    "import numpy as np\n",
    "import cv2\n",
    "import math"
   ]
  },
  {
   "cell_type": "code",
   "execution_count": 2,
   "metadata": {},
   "outputs": [],
   "source": [
    "def dilation(binary_image, selem):\n",
    "    \"\"\"\n",
    "    Purpose:\n",
    "        Do dilation operation on binary image.\n",
    "    Input:\n",
    "        binary_image: int, 2D numpy array, value 0 or 1\n",
    "        selem: int, 2D numpy array. The structuring element\n",
    "    Output:\n",
    "        the dilated image.\n",
    "    \"\"\"\n",
    "    row_pad = math.floor(selem.shape[0] / 2)\n",
    "    col_pad = math.floor(selem.shape[1] / 2)\n",
    "    check_img = np.pad(binary_image, ((row_pad,row_pad),(col_pad, col_pad)), 'constant')\n",
    "    res_img = np.zeros(binary_image.shape)\n",
    "    flipped_selem = np.flip(selem)\n",
    "    for i in np.arange(row_pad, check_img.shape[0] - row_pad):\n",
    "        for j in np.arange(col_pad, check_img.shape[1] - col_pad):\n",
    "            patch = check_img[i-row_pad:i+row_pad+1, j-col_pad:j+col_pad+1]\n",
    "            if np.any(patch & flipped_selem == 1): \n",
    "                res_img[i, j] = 1\n",
    "    return res_img.astype(int)"
   ]
  },
  {
   "cell_type": "code",
   "execution_count": 3,
   "metadata": {},
   "outputs": [],
   "source": [
    "def erosion(binary_image, selem):\n",
    "    \"\"\"\n",
    "    Purpose:\n",
    "        Do erosion operation on binary image.\n",
    "    Input:\n",
    "        binary_image: int, 2D numpy array, value 0 or 1\n",
    "        selem: int, 2D numpy array. The structuring element\n",
    "    Output:\n",
    "        the eroded image.\n",
    "    \"\"\"\n",
    "    row_pad = math.floor(selem.shape[0] / 2)\n",
    "    col_pad = math.floor(selem.shape[1] / 2)\n",
    "    check_img = np.pad(binary_image, ((row_pad,row_pad),(col_pad, col_pad)), 'constant')\n",
    "    res_img = np.zeros(binary_image.shape)\n",
    "    for i in np.arange(row_pad, check_img.shape[0] - row_pad):\n",
    "        for j in np.arange(col_pad, check_img.shape[1] - col_pad):\n",
    "            patch = check_img[i-row_pad:i+row_pad+1, j-col_pad:j+col_pad+1]\n",
    "            if np.all(patch & selem == selem): # here has problem\n",
    "                res_img[i, j] = 1\n",
    "    return res_img.astype(int)"
   ]
  },
  {
   "cell_type": "code",
   "execution_count": 4,
   "metadata": {},
   "outputs": [],
   "source": [
    "def threshold(gray_img, thresh):\n",
    "    res_img = np.zeros(gray_img.shape)\n",
    "    for i in range(gray_img.shape[0]):\n",
    "        for j in range(gray_img.shape[1]):\n",
    "            if gray_img[i,j] > thresh:\n",
    "                res_img[i,j] = 1\n",
    "    return res_img.astype(int)"
   ]
  },
  {
   "cell_type": "code",
   "execution_count": 7,
   "metadata": {},
   "outputs": [
    {
     "name": "stdout",
     "output_type": "stream",
     "text": [
      "None\n"
     ]
    },
    {
     "ename": "AttributeError",
     "evalue": "'NoneType' object has no attribute 'shape'",
     "output_type": "error",
     "traceback": [
      "\u001b[0;31m---------------------------------------------------------------------------\u001b[0m",
      "\u001b[0;31mAttributeError\u001b[0m                            Traceback (most recent call last)",
      "\u001b[0;32m<ipython-input-7-3cd5cdb82fe7>\u001b[0m in \u001b[0;36m<module>\u001b[0;34m()\u001b[0m\n\u001b[1;32m      3\u001b[0m \u001b[0mthresh\u001b[0m \u001b[0;34m=\u001b[0m \u001b[0;36m127\u001b[0m\u001b[0;34m\u001b[0m\u001b[0m\n\u001b[1;32m      4\u001b[0m \u001b[0mstruc_elem\u001b[0m \u001b[0;34m=\u001b[0m \u001b[0mnp\u001b[0m\u001b[0;34m.\u001b[0m\u001b[0mones\u001b[0m\u001b[0;34m(\u001b[0m\u001b[0;34m(\u001b[0m\u001b[0;36m3\u001b[0m\u001b[0;34m,\u001b[0m\u001b[0;36m3\u001b[0m\u001b[0;34m)\u001b[0m\u001b[0;34m)\u001b[0m\u001b[0;34m.\u001b[0m\u001b[0mastype\u001b[0m\u001b[0;34m(\u001b[0m\u001b[0mint\u001b[0m\u001b[0;34m)\u001b[0m\u001b[0;34m\u001b[0m\u001b[0m\n\u001b[0;32m----> 5\u001b[0;31m \u001b[0mbinary_img\u001b[0m \u001b[0;34m=\u001b[0m \u001b[0mthreshold\u001b[0m\u001b[0;34m(\u001b[0m\u001b[0mimg\u001b[0m\u001b[0;34m,\u001b[0m \u001b[0mthresh\u001b[0m\u001b[0;34m)\u001b[0m\u001b[0;34m\u001b[0m\u001b[0m\n\u001b[0m",
      "\u001b[0;32m<ipython-input-4-9757eddc94db>\u001b[0m in \u001b[0;36mthreshold\u001b[0;34m(gray_img, thresh)\u001b[0m\n\u001b[1;32m      1\u001b[0m \u001b[0;32mdef\u001b[0m \u001b[0mthreshold\u001b[0m\u001b[0;34m(\u001b[0m\u001b[0mgray_img\u001b[0m\u001b[0;34m,\u001b[0m \u001b[0mthresh\u001b[0m\u001b[0;34m)\u001b[0m\u001b[0;34m:\u001b[0m\u001b[0;34m\u001b[0m\u001b[0m\n\u001b[0;32m----> 2\u001b[0;31m     \u001b[0mres_img\u001b[0m \u001b[0;34m=\u001b[0m \u001b[0mnp\u001b[0m\u001b[0;34m.\u001b[0m\u001b[0mzeros\u001b[0m\u001b[0;34m(\u001b[0m\u001b[0mgray_img\u001b[0m\u001b[0;34m.\u001b[0m\u001b[0mshape\u001b[0m\u001b[0;34m)\u001b[0m\u001b[0;34m\u001b[0m\u001b[0m\n\u001b[0m\u001b[1;32m      3\u001b[0m     \u001b[0;32mfor\u001b[0m \u001b[0mi\u001b[0m \u001b[0;32min\u001b[0m \u001b[0mrange\u001b[0m\u001b[0;34m(\u001b[0m\u001b[0mgray_img\u001b[0m\u001b[0;34m.\u001b[0m\u001b[0mshape\u001b[0m\u001b[0;34m[\u001b[0m\u001b[0;36m0\u001b[0m\u001b[0;34m]\u001b[0m\u001b[0;34m)\u001b[0m\u001b[0;34m:\u001b[0m\u001b[0;34m\u001b[0m\u001b[0m\n\u001b[1;32m      4\u001b[0m         \u001b[0;32mfor\u001b[0m \u001b[0mj\u001b[0m \u001b[0;32min\u001b[0m \u001b[0mrange\u001b[0m\u001b[0;34m(\u001b[0m\u001b[0mgray_img\u001b[0m\u001b[0;34m.\u001b[0m\u001b[0mshape\u001b[0m\u001b[0;34m[\u001b[0m\u001b[0;36m1\u001b[0m\u001b[0;34m]\u001b[0m\u001b[0;34m)\u001b[0m\u001b[0;34m:\u001b[0m\u001b[0;34m\u001b[0m\u001b[0m\n\u001b[1;32m      5\u001b[0m             \u001b[0;32mif\u001b[0m \u001b[0mgray_img\u001b[0m\u001b[0;34m[\u001b[0m\u001b[0mi\u001b[0m\u001b[0;34m,\u001b[0m\u001b[0mj\u001b[0m\u001b[0;34m]\u001b[0m \u001b[0;34m>\u001b[0m \u001b[0mthresh\u001b[0m\u001b[0;34m:\u001b[0m\u001b[0;34m\u001b[0m\u001b[0m\n",
      "\u001b[0;31mAttributeError\u001b[0m: 'NoneType' object has no attribute 'shape'"
     ]
    }
   ],
   "source": [
    "img = cv2.imread(\"../task1_img/noise.jpg\", 0)\n",
    "thresh = 127\n",
    "struc_elem = np.ones((3,3)).astype(int)\n",
    "binary_img = threshold(img, thresh)"
   ]
  },
  {
   "cell_type": "code",
   "execution_count": null,
   "metadata": {},
   "outputs": [],
   "source": []
  }
 ],
 "metadata": {
  "kernelspec": {
   "display_name": "projectname",
   "language": "python",
   "name": "projectname"
  },
  "language_info": {
   "codemirror_mode": {
    "name": "ipython",
    "version": 3
   },
   "file_extension": ".py",
   "mimetype": "text/x-python",
   "name": "python",
   "nbconvert_exporter": "python",
   "pygments_lexer": "ipython3",
   "version": "3.7.0"
  }
 },
 "nbformat": 4,
 "nbformat_minor": 2
}
