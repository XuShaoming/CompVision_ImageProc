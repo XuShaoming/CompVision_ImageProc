{
 "cells": [
  {
   "cell_type": "code",
   "execution_count": 1,
   "metadata": {},
   "outputs": [],
   "source": [
    "import numpy as np\n",
    "import cv2\n",
    "from io import StringIO\n",
    "import matplotlib\n",
    "import matplotlib.pyplot as plt\n",
    "import matplotlib.cm as cm\n",
    "import mylibrary as mylib\n",
    "from mylibrary import euclidean_distance\n",
    "\n",
    "%matplotlib inline"
   ]
  },
  {
   "cell_type": "code",
   "execution_count": 2,
   "metadata": {},
   "outputs": [],
   "source": [
    "data_given = np.array([[5.9,3.2],\n",
    "                 [4.6,2.9],\n",
    "                 [6.2,2.8],\n",
    "                 [4.7,3.2],\n",
    "                 [5.5,4.2],\n",
    "                 [5.0,3.0],\n",
    "                 [4.9,3.1],\n",
    "                 [6.7,3.1],\n",
    "                 [5.1,3.8],\n",
    "                 [6.0,3.0]])"
   ]
  },
  {
   "cell_type": "code",
   "execution_count": 3,
   "metadata": {},
   "outputs": [],
   "source": [
    "class Center:\n",
    "    def __init__(self, center, pts):\n",
    "        self.center = center\n",
    "        self.pts = pts\n",
    "        \n",
    "    def set_center(self, center):\n",
    "        self.center = center\n",
    "        \n",
    "    def set_pts(self, pts):\n",
    "        self.pts = pts\n",
    "    \n",
    "    def __eq__(self, other): \n",
    "        return np.all(self.center == other.center)\n",
    "    \n",
    "    def __repr__(self):\n",
    "         return \"cluster: \" + str(self.center) "
   ]
  },
  {
   "cell_type": "code",
   "execution_count": 4,
   "metadata": {},
   "outputs": [],
   "source": [
    "def assign_to_center(data, centers, k):\n",
    "    dis_matrix = np.empty((0,data.shape[0]))\n",
    "    for center in centers:\n",
    "        dis_matrix = np.vstack((dis_matrix, np.sum(np.square(data - center.center), axis=1)))\n",
    "    belongs = np.argmin(dis_matrix, axis=0)\n",
    "    for i in range(k):\n",
    "        centers[i].pts = np.where(belongs == i)[0]\n",
    "    return centers"
   ]
  },
  {
   "cell_type": "code",
   "execution_count": 5,
   "metadata": {},
   "outputs": [],
   "source": [
    "def init_centers_random(data, k, seed=20):\n",
    "    centers = data[np.random.RandomState(seed=seed).permutation(data.shape[0])[0:k]]\n",
    "    centers = list(map(lambda x: Center(x,np.array([])), centers))\n",
    "    centers = assign_to_center(data, centers,k)\n",
    "    return centers"
   ]
  },
  {
   "cell_type": "code",
   "execution_count": 6,
   "metadata": {},
   "outputs": [],
   "source": [
    "def init_given(data,k,seed):\n",
    "    centers = np.array([[6.2,3.2],\n",
    "              [6.6,3.7],\n",
    "              [6.5,3.0]])\n",
    "    centers = list(map(lambda x: Center(x,np.array([])), centers))\n",
    "    centers = assign_to_center(data, centers,k)\n",
    "    return centers"
   ]
  },
  {
   "cell_type": "code",
   "execution_count": 7,
   "metadata": {},
   "outputs": [],
   "source": [
    "def update_centers(data, centers, k):\n",
    "    not_updated = True\n",
    "    new_centers = []\n",
    "    for center in centers:\n",
    "        new_centers.append(Center(np.mean(data[center.pts],axis=0), np.array([])))\n",
    "    return assign_to_center(data,new_centers, k)   "
   ]
  },
  {
   "cell_type": "code",
   "execution_count": 8,
   "metadata": {},
   "outputs": [],
   "source": [
    "def k_mean(data, k, init_fun, max_itr=500, seed=20, need_plot=False):\n",
    "    itr = 0\n",
    "    centers = init_fun(data,k,seed)\n",
    "    while itr <= max_itr:\n",
    "        itr += 1\n",
    "        if need_plot:\n",
    "            plot_k_min(data, centers, itr)\n",
    "        if itr % 5 == 0:\n",
    "            print(\"iteration :\", itr)\n",
    "        new_centers = update_centers(data,centers,k)\n",
    "        centers_1 = np.asarray(list(map(lambda x: x.center ,centers)))\n",
    "        centers_2 = np.asarray(list(map(lambda x: x.center ,new_centers)))\n",
    "        if np.all(centers_1 == centers_2):\n",
    "            break\n",
    "        centers = new_centers \n",
    "    print(\"total iteration\", itr)\n",
    "    return centers"
   ]
  },
  {
   "cell_type": "code",
   "execution_count": 9,
   "metadata": {},
   "outputs": [],
   "source": [
    "def plot_k_min(data, centers, itr):\n",
    "    label_set = set(np.arange(len(centers)))\n",
    "    color_map = dict(zip(label_set, cm.rainbow(np.linspace(0, 1, len(label_set)))))\n",
    "    for label in label_set:\n",
    "        index = centers[label].pts\n",
    "        plt.scatter(data[index][:,0], data[index][:,1], s=20, c=color_map[label],\n",
    "                    alpha=0.3, label=label)\n",
    "        plt.scatter(centers[label].center[0], centers[label].center[1], s=100, c=color_map[label],\n",
    "                    alpha=1.0, marker='x')\n",
    "    plt.title(\"iteration: \"+ str(itr))\n",
    "    plt.legend(loc='best')\n",
    "    plt.show()\n",
    "    plt.close()"
   ]
  },
  {
   "cell_type": "code",
   "execution_count": 10,
   "metadata": {},
   "outputs": [],
   "source": [
    "def plot_k_min(data, centers, itr):\n",
    "    label_set = set(np.arange(len(centers)))\n",
    "    #color_map = dict(zip(label_set, cm.rainbow(np.linspace(0, 1, len(label_set)))))\n",
    "    color_map = dict(zip(label_set, ['red','green','blue']))\n",
    "    for label in label_set:\n",
    "        index = centers[label].pts\n",
    "        plt.scatter(data[index][:,0], data[index][:,1], s=50, c=color_map[label],\n",
    "                    alpha=0.3, label=label,marker='^')\n",
    "        plt.scatter(centers[label].center[0], centers[label].center[1], s=50, color=color_map[label],\n",
    "                    alpha=1.0, marker='o')\n",
    "    plt.title(\"iteration: \"+ str(itr))\n",
    "    plt.legend(loc='best')\n",
    "    plt.show()\n",
    "    plt.close()"
   ]
  },
  {
   "cell_type": "code",
   "execution_count": 11,
   "metadata": {},
   "outputs": [],
   "source": [
    "#data = mylib.generate_data()"
   ]
  },
  {
   "cell_type": "code",
   "execution_count": 11,
   "metadata": {},
   "outputs": [
    {
     "name": "stdout",
     "output_type": "stream",
     "text": [
      "total iteration 3\n"
     ]
    },
    {
     "data": {
      "image/png": "[encoded data removed]",
      "text/plain": [
       "<Figure size 432x288 with 1 Axes>"
      ]
     },
     "metadata": {
      "needs_background": "light"
     },
     "output_type": "display_data"
    }
   ],
   "source": [
    "data = data_given\n",
    "seed = 20\n",
    "k = 3\n",
    "max_itr = 100\n",
    "itr = 0\n",
    "centers = k_mean(data,k,init_fun=init_given ,need_plot=False)\n",
    "plot_k_min(data,centers, 3)"
   ]
  },
  {
   "cell_type": "code",
   "execution_count": null,
   "metadata": {},
   "outputs": [],
   "source": []
  },
  {
   "cell_type": "markdown",
   "metadata": {},
   "source": [
    "### Color Quantization"
   ]
  },
  {
   "cell_type": "code",
   "execution_count": 12,
   "metadata": {},
   "outputs": [],
   "source": [
    "def to_pixel_list(img):\n",
    "    \"\"\"\n",
    "    Output:\n",
    "        pixel_list: a list of pixel. value type float\n",
    "    \"\"\"\n",
    "    pixel_list = np.empty((0,img[0].shape[1]))\n",
    "    for row in img:\n",
    "        pixel_list = np.append(pixel_list, row, axis=0)\n",
    "    return pixel_list"
   ]
  },
  {
   "cell_type": "code",
   "execution_count": 13,
   "metadata": {},
   "outputs": [],
   "source": [
    "def get_img(centers,shape):\n",
    "    row_num, col_num, _ = img.shape\n",
    "    new_img = np.empty((img.shape))\n",
    "    for center in centers:\n",
    "        pixel = center.center.astype(np.uint8)\n",
    "        locs = list(map(lambda x: (int(x/col_num), int(x%col_num)) ,center.pts))\n",
    "        for loc in locs:\n",
    "            new_img[loc] = pixel\n",
    "    return new_img.astype(np.uint8)"
   ]
  },
  {
   "cell_type": "code",
   "execution_count": 14,
   "metadata": {},
   "outputs": [],
   "source": [
    "def quantized_img(img, k, init_fun = init_centers_random, max_itr=10000, seed=20):\n",
    "    pixel_list = to_pixel_list(img)\n",
    "    centers = k_mean(pixel_list, k, init_fun, max_itr=100000, seed=seed)\n",
    "    return get_img(centers,img.shape)"
   ]
  },
  {
   "cell_type": "markdown",
   "metadata": {},
   "source": [
    "### Test"
   ]
  },
  {
   "cell_type": "code",
   "execution_count": 15,
   "metadata": {},
   "outputs": [],
   "source": [
    "img = cv2.imread(\"../data/baboon.jpg\")"
   ]
  },
  {
   "cell_type": "code",
   "execution_count": 16,
   "metadata": {
    "collapsed": true
   },
   "outputs": [
    {
     "name": "stdout",
     "output_type": "stream",
     "text": [
      "iteration : 5\n",
      "iteration : 10\n",
      "iteration : 15\n",
      "iteration : 20\n",
      "iteration : 25\n",
      "iteration : 30\n",
      "total iteration 31\n",
      "iteration : 5\n",
      "iteration : 10\n",
      "iteration : 15\n",
      "iteration : 20\n",
      "iteration : 25\n",
      "iteration : 30\n",
      "iteration : 35\n",
      "total iteration 35\n",
      "iteration : 5\n",
      "iteration : 10\n",
      "iteration : 15\n",
      "iteration : 20\n",
      "iteration : 25\n",
      "iteration : 30\n",
      "iteration : 35\n",
      "iteration : 40\n",
      "iteration : 45\n",
      "iteration : 50\n",
      "iteration : 55\n",
      "iteration : 60\n",
      "iteration : 65\n",
      "iteration : 70\n",
      "iteration : 75\n",
      "iteration : 80\n",
      "iteration : 85\n",
      "iteration : 90\n",
      "iteration : 95\n",
      "iteration : 100\n",
      "iteration : 105\n",
      "iteration : 110\n",
      "iteration : 115\n",
      "iteration : 120\n",
      "iteration : 125\n",
      "iteration : 130\n",
      "iteration : 135\n",
      "iteration : 140\n",
      "iteration : 145\n",
      "total iteration 145\n",
      "iteration : 5\n",
      "iteration : 10\n",
      "iteration : 15\n",
      "iteration : 20\n",
      "iteration : 25\n",
      "iteration : 30\n",
      "iteration : 35\n",
      "iteration : 40\n",
      "iteration : 45\n",
      "iteration : 50\n",
      "iteration : 55\n",
      "iteration : 60\n",
      "iteration : 65\n",
      "iteration : 70\n",
      "iteration : 75\n",
      "iteration : 80\n",
      "iteration : 85\n",
      "iteration : 90\n",
      "iteration : 95\n",
      "iteration : 100\n",
      "iteration : 105\n",
      "iteration : 110\n",
      "iteration : 115\n",
      "iteration : 120\n",
      "iteration : 125\n",
      "iteration : 130\n",
      "iteration : 135\n",
      "iteration : 140\n",
      "iteration : 145\n",
      "iteration : 150\n",
      "iteration : 155\n",
      "iteration : 160\n",
      "iteration : 165\n",
      "iteration : 170\n",
      "iteration : 175\n",
      "iteration : 180\n",
      "iteration : 185\n",
      "iteration : 190\n",
      "iteration : 195\n",
      "iteration : 200\n",
      "iteration : 205\n",
      "total iteration 207\n"
     ]
    }
   ],
   "source": [
    "ks = [3,5,10,20]\n",
    "for k in ks:\n",
    "    print(\"k =\",k)\n",
    "    new_img = quantized_img(img,k)\n",
    "    cv2.imwrite(\"../task3_img/task3_baboon_\"+str(k)+\".jpg\",new_img)\n",
    "    print()"
   ]
  }
 ],
 "metadata": {
  "kernelspec": {
   "display_name": "projectname",
   "language": "python",
   "name": "projectname"
  },
  "language_info": {
   "codemirror_mode": {
    "name": "ipython",
    "version": 3
   },
   "file_extension": ".py",
   "mimetype": "text/x-python",
   "name": "python",
   "nbconvert_exporter": "python",
   "pygments_lexer": "ipython3",
   "version": "3.7.0"
  }
 },
 "nbformat": 4,
 "nbformat_minor": 2
}
