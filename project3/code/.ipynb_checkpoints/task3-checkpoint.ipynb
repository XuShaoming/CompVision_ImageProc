{
 "cells": [
  {
   "cell_type": "code",
   "execution_count": 1,
   "metadata": {},
   "outputs": [],
   "source": [
    "import numpy as np\n",
    "import cv2\n",
    "import math\n",
    "import matplotlib.pyplot as plt\n",
    "from mylibrary import count_pixels\n",
    "import task1\n",
    "%matplotlib inline"
   ]
  },
  {
   "cell_type": "markdown",
   "metadata": {},
   "source": [
    "## Edge detection"
   ]
  },
  {
   "cell_type": "code",
   "execution_count": 2,
   "metadata": {},
   "outputs": [],
   "source": [
    "# sober for edge detection\n",
    "VERTICAL_SOBEL_3BY3 = np.array([[-1,2,-1],\n",
    "                          [-1,2,-1],\n",
    "                          [-1,2,-1]])\n",
    "\n",
    "HORIZONTAL_SOBEL_3BY3 = np.array([[-1,-1,-1],\n",
    "                         [2,2,2],\n",
    "                         [-1,-1,-1]])\n",
    "POS45_SOBEL_3BY3 = np.array([[-1,-1,2],\n",
    "                         [-1,2,-1],\n",
    "                         [2,-1,-1]])\n",
    "NEG45_SOBEL_3BY3 = np.array([[2,-1,-1],\n",
    "                         [-1,2,-1],\n",
    "                         [-1,-1,2]])"
   ]
  },
  {
   "cell_type": "code",
   "execution_count": 3,
   "metadata": {},
   "outputs": [],
   "source": [
    "def texture_filtering(img_gray, kernel):\n",
    "    \"\"\"\n",
    "    Purpose:\n",
    "        use to filter the gray image given the kernel\n",
    "    Input:\n",
    "        img_gray: \n",
    "            an two dimension ndarray matrix, dtype:usually is uint8 representint the gray image.\n",
    "        kernel: \n",
    "            a two dimension ndarray matrix\n",
    "    Output:\n",
    "        The filtered image without padding around.\n",
    "    \"\"\"\n",
    "    row_pad = math.floor(kernel.shape[0] / 2)\n",
    "    col_pad = math.floor(kernel.shape[1] / 2)\n",
    "    \n",
    "    res_img = np.zeros(img_gray.shape)\n",
    "    check_img = np.pad(img_gray, ((row_pad,row_pad),(col_pad, col_pad)), 'constant')\n",
    "    flipped_kernel = np.flip(kernel)\n",
    "    \n",
    "    for i in range(row_pad, check_img.shape[0] - row_pad):\n",
    "        for j in range(col_pad, check_img.shape[1] - col_pad):\n",
    "            patch = check_img[i-row_pad:i+row_pad+1, j-col_pad:j+col_pad+1]\n",
    "            res_img[i-row_pad, j-col_pad] = np.sum(patch * flipped_kernel)\n",
    "    return res_img"
   ]
  },
  {
   "cell_type": "code",
   "execution_count": 4,
   "metadata": {},
   "outputs": [],
   "source": [
    "def eliminate_zero(img, method=1):\n",
    "    \"\"\"\n",
    "    Purpose:\n",
    "        two ways to eliminate the negative value or the value out of 255.\n",
    "    Input:\n",
    "        img: two dimension matrix\n",
    "            the raw image. dtype usually is float64 with pixel < 0 or pixel > 255\n",
    "        method: int\n",
    "            default is 1 which directs to first method\n",
    "            the 2 will direct to the second method.\n",
    "    Output:\n",
    "        a matrix dtype range zero to one. \n",
    "    \"\"\"\n",
    "    if method == 1:\n",
    "        min_ = np.min(img)\n",
    "        max_ = np.max(img)\n",
    "        return (img - min_) / (max_ - min_)\n",
    "    elif method == 2:\n",
    "        abs_img = np.abs(img)\n",
    "        return abs_img / np.max(abs_img)\n",
    "    else :\n",
    "        print(\"method is 1 or 2\")"
   ]
  },
  {
   "cell_type": "code",
   "execution_count": 5,
   "metadata": {},
   "outputs": [],
   "source": [
    "def combine_edge(hori,vert,pos45,neg45,T):\n",
    "    \"\"\"\n",
    "    Purpose:\n",
    "        to combine edges in four direction. \n",
    "        Mark result image 1 in given loc if any of these four edge images pixels absolute value\n",
    "        greater than T in that loc.\n",
    "    Output:\n",
    "        res_img: binary img, value type np.uint8\n",
    "    \"\"\"\n",
    "    hori = np.abs(hori)\n",
    "    vert = np.abs(vert)\n",
    "    pos45 = np.abs(pos45)\n",
    "    neg45 = np.abs(neg45)\n",
    "    res_img = np.zeros(hori.shape).astype(np.uint8)\n",
    "    for i in range(hori.shape[0]):\n",
    "        for j in range(hori.shape[1]):\n",
    "            if hori[i,j] > T or vert[i,j] > T or pos45[i,j] > T or neg45[i,j] > T :\n",
    "                res_img[i,j] = 1\n",
    "    return res_img"
   ]
  },
  {
   "cell_type": "code",
   "execution_count": 6,
   "metadata": {},
   "outputs": [],
   "source": [
    "def ignore_border(img_gray):\n",
    "    \"\"\"\n",
    "    Purpose:\n",
    "        ignore the img bodre by setting value as 0.\n",
    "        notice: Affect original img.\n",
    "    Output:\n",
    "        the pointer point to original image.\n",
    "    \"\"\"\n",
    "    img_gray[0] = 0\n",
    "    img_gray[-1] = 0\n",
    "    for row in img_gray:\n",
    "        row[0] = 0\n",
    "        row[-1] = 0\n",
    "    return img_gray"
   ]
  },
  {
   "cell_type": "code",
   "execution_count": 7,
   "metadata": {},
   "outputs": [],
   "source": [
    "def pick_by_count(lines, T):\n",
    "    \"\"\"\n",
    "    Purpose:\n",
    "        filter the lines which number of (rho, radian) greater than threshold T.\n",
    "    Input:\n",
    "        lines: a matrix, col_1: rho, col_2: radian, col_2: number of (rho, radian) tuple. It can be got by res_dic.\n",
    "    Output:\n",
    "        matrix, numpy array, each row represent a selected line. \n",
    "        \n",
    "    \"\"\"\n",
    "    res = []\n",
    "    for line in lines:\n",
    "        if line[2] > T:\n",
    "            res.append(line)  \n",
    "    return np.asarray(res)"
   ]
  },
  {
   "cell_type": "code",
   "execution_count": 8,
   "metadata": {},
   "outputs": [],
   "source": [
    "def pick_by_theta(lines, theta, gap):\n",
    "    \"\"\"\n",
    "    Purpose:\n",
    "        filter the lines by theta,\n",
    "    Input:\n",
    "        lines: a matrix, col_1: rho, col_2: radian, col_2: number of (rho, radian) tuple.\n",
    "        theta: real, is a radian, will compared radians from col_2\n",
    "        gap: the maximum difference between two theta.\n",
    "    Output:\n",
    "        matrix, numpy array, each row represent a selected line. \n",
    "    \"\"\"\n",
    "    res = []\n",
    "    for line in lines:\n",
    "        if abs(line[1] - theta) < gap:\n",
    "            res.append(line)  \n",
    "    return np.asarray(res)"
   ]
  },
  {
   "cell_type": "code",
   "execution_count": 9,
   "metadata": {},
   "outputs": [],
   "source": [
    "def hough(edge_img):\n",
    "    \"\"\"\n",
    "    Purpose:\n",
    "        Main function of hough transform.\n",
    "        Notice: Here I use the rho = x * sin(theta) + y * cos(theta). It is different from the hough equation.\n",
    "        I do this to meet the convention of opencv so that to use opencv library easily later.\n",
    "    Input:\n",
    "        edge_img: binary image, the boundary image after edge detection.\n",
    "    Output:\n",
    "        res_dic: a dictionary, key is a tuple (rho, radian), value is the number of its key.\n",
    "    \"\"\"\n",
    "    m, n = edge_img.shape\n",
    "    res_dic = {}\n",
    "    for i in range(m):\n",
    "        for j in range(n):\n",
    "            if edge_img[i,j] == 1:\n",
    "                for degree in range(0,180):\n",
    "                    radian = np.radians(degree)\n",
    "                    rho = int(i * np.sin(radian) + j * np.cos(radian))\n",
    "                    if ((rho, radian)) not in res_dic:\n",
    "                        res_dic[(rho, radian)] = 0\n",
    "                    res_dic[(rho, radian)] += 1\n",
    "    return res_dic"
   ]
  },
  {
   "cell_type": "code",
   "execution_count": 10,
   "metadata": {},
   "outputs": [],
   "source": [
    "def draw_lines(img, lines, loc=\"../task3_img/\", name = \"hough_res.jpg\"):\n",
    "    \"\"\"\n",
    "    Purpose: \n",
    "        draw lines in image\n",
    "        not affect original imgage.\n",
    "    \"\"\"\n",
    "    img = img.copy()\n",
    "    for line in lines:\n",
    "        rho = line[0]\n",
    "        theta = line[1]\n",
    "        a = np.cos(theta)\n",
    "        b = np.sin(theta)\n",
    "        x0 = a*rho\n",
    "        y0 = b*rho\n",
    "        x1 = int(x0 + 1000*(-b))\n",
    "        y1 = int(y0 + 1000*(a))\n",
    "        x2 = int(x0 - 1000*(-b))\n",
    "        y2 = int(y0 - 1000*(a))\n",
    "        cv2.line(img,(x1,y1),(x2,y2),(0,0,255),2)\n",
    "    cv2.imwrite(loc+name, img) "
   ]
  },
  {
   "cell_type": "code",
   "execution_count": 11,
   "metadata": {},
   "outputs": [],
   "source": [
    "def circle_hough(edge_img):\n",
    "    res_dic = {}\n",
    "    for x in range(edge_img.shape[0]):\n",
    "        for y in range(edge_img.shape[1]):\n",
    "            if edge_img[x,y] == 1:\n",
    "                for r in range(18,28):\n",
    "                    for t in range(0,360):\n",
    "                        a = x - r * np.cos(t * np.pi / 180)\n",
    "                        b = y - r * np.sin(t * np.pi / 180)\n",
    "                        if (a,b,r) not in res_dic:\n",
    "                            res_dic[(a,b,r)] = 0\n",
    "                        res_dic[(a,b,r)] += 1\n",
    "    return res_dic       "
   ]
  },
  {
   "cell_type": "code",
   "execution_count": 12,
   "metadata": {},
   "outputs": [],
   "source": [
    "def draw_circles(img, circles, loc=\"../task3_img/\", name=\"coin.jpg\" ):\n",
    "    img = img.copy()\n",
    "    for cir in circles:\n",
    "        cv2.circle(img,(cir[1], cir[0]), cir[2], (0,255,0), 1)\n",
    "    cv2.imwrite(loc+name, img)"
   ]
  },
  {
   "cell_type": "code",
   "execution_count": 13,
   "metadata": {
    "scrolled": true
   },
   "outputs": [
    {
     "name": "stdout",
     "output_type": "stream",
     "text": [
      "Start to do edge detection\n",
      "Start to preprocess binary image\n",
      "Start using hough algorithms\n",
      "start hough circle\n"
     ]
    }
   ],
   "source": [
    "if __name__ == \"__main__\":\n",
    "    img = cv2.imread('../task3_img/hough.jpg')\n",
    "    img_gray = cv2.cvtColor(img, cv2.COLOR_BGR2GRAY)\n",
    "    \n",
    "    print(\"Start to do edge detection\")\n",
    "    ## get edges from four directions\n",
    "    vertical = texture_filtering(img_gray, VERTICAL_SOBEL_3BY3)\n",
    "    horizontal = texture_filtering(img_gray, HORIZONTAL_SOBEL_3BY3)\n",
    "    pos45 = texture_filtering(img_gray, POS45_SOBEL_3BY3)\n",
    "    neg45 = texture_filtering(img_gray, NEG45_SOBEL_3BY3)\n",
    "    \n",
    "    ## Find threshold through observation\n",
    "    # vertical\n",
    "    pixel_stat = count_pixels(np.abs(vertical))\n",
    "    stat_list = np.asarray([[key,val] for key,val in pixel_stat.items() if key >100]).T\n",
    "    plt.bar(stat_list[0],stat_list[1],align='center') # A bar chart\n",
    "    plt.title(\"pixel numbers count (vert edge, value > 100)\")\n",
    "    plt.xlabel('pixel value')\n",
    "    plt.ylabel('number')\n",
    "    plt.savefig(\"../task3_img/vert_hist\")\n",
    "    plt.close()\n",
    "    \n",
    "    #horizontal\n",
    "    pixel_stat = count_pixels(np.abs(horizontal))\n",
    "    stat_list = np.asarray([[key,val] for key,val in pixel_stat.items() if key >100]).T\n",
    "    plt.bar(stat_list[0],stat_list[1],align='center') # A bar chart\n",
    "    plt.title(\"pixel numbers count (hori edge, value > 100)\")\n",
    "    plt.xlabel('pixel value')\n",
    "    plt.ylabel('number')\n",
    "    plt.savefig(\"../task3_img/hori_hist\")\n",
    "    plt.close()\n",
    "    \n",
    "    #pos45\n",
    "    pixel_stat = count_pixels(np.abs(pos45))\n",
    "    stat_list = np.asarray([[key,val] for key,val in pixel_stat.items() if key >100]).T\n",
    "    plt.bar(stat_list[0],stat_list[1],align='center') # A bar chart\n",
    "    plt.title(\"pixel numbers count (pos45 edge, value > 100)\")\n",
    "    plt.xlabel('pixel value')\n",
    "    plt.ylabel('number')\n",
    "    plt.savefig(\"../task3_img/pos45_hist\")\n",
    "    plt.close()\n",
    "    \n",
    "    #neg45\n",
    "    pixel_stat = count_pixels(np.abs(neg45))\n",
    "    stat_list = np.asarray([[key,val] for key,val in pixel_stat.items() if key >100]).T\n",
    "    plt.bar(stat_list[0],stat_list[1],align='center') # A bar chart\n",
    "    plt.title(\"pixel numbers count (neg45, value > 100)\")\n",
    "    plt.xlabel('pixel value')\n",
    "    plt.ylabel('number')\n",
    "    plt.savefig(\"../task3_img/neg45_hist\")\n",
    "    plt.close()\n",
    "    \n",
    "    ## Combined edges using threshold\n",
    "    T = 50\n",
    "    combined = combine_edge(horizontal,vertical,pos45,neg45,T)\n",
    "    combined = ignore_border(combined)\n",
    "    cv2.imwrite(\"../task3_img/combined.jpg\", (combined*255).astype(np.uint8))\n",
    "    \n",
    "    ## preprocess binary image\n",
    "    print(\"Start to preprocess binary image\")\n",
    "    #denoise\n",
    "    struc_elem = np.ones((3,3)).astype(np.uint8)\n",
    "    denoised = task1.denoising(method=2)(combined, struc_elem)\n",
    "    cv2.imwrite(\"../task3_img/denoised.jpg\", (denoised*255).astype(np.uint8))\n",
    "    #closing\n",
    "    struc_elem = np.ones((7,7)).astype(np.uint8)\n",
    "    closed = task1.closing(denoised, struc_elem)\n",
    "    cv2.imwrite(\"../task3_img/closed.jpg\", (closed*255).astype(np.uint8))\n",
    "    #extract boundary\n",
    "    boundary = task1.boundary(closed)\n",
    "    cv2.imwrite(\"../task3_img/boundary.jpg\", (boundary*255).astype(np.uint8))\n",
    "    \n",
    "    ## Start using hough algorithms\n",
    "    print(\"Start using hough algorithms\")\n",
    "    hres = hough(boundary)\n",
    "    lines = np.asarray([[key[0], key[1], val] for key, val in hres.items()])\n",
    "    #filter by theta and count\n",
    "    #red lines\n",
    "    T = 160\n",
    "    theta_gap = 0.2\n",
    "    theta_red = 3.1\n",
    "    lines_red = pick_by_theta(lines, theta_red, theta_gap)\n",
    "    res_red = pick_by_count(lines_red, T)\n",
    "    draw_lines(img, res_red, loc=\"../task3_img/\", name = \"red_line.jpg\")\n",
    "\n",
    "    #blue lines\n",
    "    T = 140\n",
    "    theta_gap = 0.2\n",
    "    theta_blue = 2.5\n",
    "    lines_blue = pick_by_theta(lines, theta_blue, theta_gap)\n",
    "    res_blue = pick_by_count(lines_blue, T)\n",
    "    draw_lines(img, res_blue, loc=\"../task3_img/\", name = \"blue_lines.jpg\")\n",
    "    \n",
    "    #Bonus Circle hough\n",
    "    print(\"start hough circle\")\n",
    "    chres = circle_hough(boundary)\n",
    "    circles = [item for item in chres.items() if chres[item[0]] >= 4]\n",
    "    circles = np.asarray([[x[0][0], x[0][1], x[0][2], x[1]] for x in circles]).astype(int)\n",
    "    draw_circles(img, circles)\n",
    "    #Bonus using Canny edge detection\n",
    "#     img = cv2.imread('../task3_img/hough.jpg')\n",
    "#     gray = cv2.cvtColor(img,cv2.COLOR_BGR2GRAY)\n",
    "#     edges = cv2.Canny(gray,50,150,apertureSize = 3)\n",
    "#     chres = circle_hough(edges)\n",
    "#     circles = [item for item in chres.items() if chres[item[0]] >= 4]\n",
    "#     circles = np.asarray([[x[0][0], x[0][1], x[0][2], x[1]] for x in circles]).astype(int)\n",
    "#     draw_circles(img, circles, name=\"coin_edge.jpg\")\n",
    "    \n",
    "    \n",
    "    "
   ]
  },
  {
   "cell_type": "code",
   "execution_count": 37,
   "metadata": {},
   "outputs": [
    {
     "data": {
      "text/plain": [
       "True"
      ]
     },
     "execution_count": 37,
     "metadata": {},
     "output_type": "execute_result"
    }
   ],
   "source": [
    "img = cv2.imread('../task3_img/hough.jpg')\n",
    "gray = cv2.cvtColor(img,cv2.COLOR_BGR2GRAY)\n",
    "edges = cv2.Canny(gray,50,150,apertureSize = 3)\n",
    "cv2.imwrite('../task3_img/cannyedge.jpg', edges) \n",
    "edges = (edges/255).astype(np.uint)\n",
    "struc_elem = np.ones((7,7)).astype(np.uint8)\n",
    "closed = task1.closing(edges, struc_elem)\n",
    "boundary3 = task1.boundary(closed)\n",
    "cv2.imwrite(\"../task3_img/boundary3.jpg\", (boundary3*255).astype(np.uint8))"
   ]
  },
  {
   "cell_type": "code",
   "execution_count": 38,
   "metadata": {},
   "outputs": [
    {
     "data": {
      "text/plain": [
       "array([[1, 0, 0, ..., 0, 0, 0],\n",
       "       [1, 0, 0, ..., 0, 0, 0],\n",
       "       [1, 0, 0, ..., 0, 0, 0],\n",
       "       ...,\n",
       "       [0, 1, 0, ..., 0, 0, 0],\n",
       "       [0, 1, 0, ..., 0, 0, 0],\n",
       "       [0, 1, 0, ..., 0, 0, 0]], dtype=uint64)"
      ]
     },
     "execution_count": 38,
     "metadata": {},
     "output_type": "execute_result"
    }
   ],
   "source": [
    "edges"
   ]
  },
  {
   "cell_type": "code",
   "execution_count": null,
   "metadata": {},
   "outputs": [],
   "source": [
    "chres = circle_hough(edges)"
   ]
  },
  {
   "cell_type": "code",
   "execution_count": 26,
   "metadata": {},
   "outputs": [
    {
     "data": {
      "text/plain": [
       "76927137"
      ]
     },
     "execution_count": 26,
     "metadata": {},
     "output_type": "execute_result"
    }
   ],
   "source": [
    "len(chres)"
   ]
  },
  {
   "cell_type": "code",
   "execution_count": null,
   "metadata": {},
   "outputs": [],
   "source": [
    "1"
   ]
  },
  {
   "cell_type": "code",
   "execution_count": 25,
   "metadata": {},
   "outputs": [
    {
     "data": {
      "text/plain": [
       "(503.0, 0.9999999999999967, 27)"
      ]
     },
     "execution_count": 25,
     "metadata": {},
     "output_type": "execute_result"
    }
   ],
   "source": [
    "max(chres)"
   ]
  },
  {
   "cell_type": "code",
   "execution_count": null,
   "metadata": {},
   "outputs": [],
   "source": [
    "circles = [item for item in chres.items() if chres[item[0]] >= 4]"
   ]
  },
  {
   "cell_type": "code",
   "execution_count": 36,
   "metadata": {
    "collapsed": true
   },
   "outputs": [
    {
     "data": {
      "text/plain": [
       "[((45.0, 268.0, 18), 4),\n",
       " ((48.0, 269.0, 19), 4),\n",
       " ((48.0, 271.0, 19), 4),\n",
       " ((48.0, 275.0, 19), 4),\n",
       " ((47.0, 276.0, 18), 4),\n",
       " ((55.0, 373.0, 19), 4),\n",
       " ((55.0, 376.0, 19), 4),\n",
       " ((56.0, 373.0, 18), 4),\n",
       " ((56.0, 376.0, 18), 4),\n",
       " ((67.0, 541.0, 25), 4),\n",
       " ((65.0, 543.0, 20), 4),\n",
       " ((69.0, 541.0, 23), 4),\n",
       " ((69.0, 544.0, 22), 4),\n",
       " ((72.0, 542.0, 24), 4),\n",
       " ((68.0, 148.0, 19), 4),\n",
       " ((68.0, 543.0, 18), 4),\n",
       " ((73.0, 381.0, 20), 4),\n",
       " ((74.0, 378.0, 20), 4),\n",
       " ((83.0, 516.0, 18), 4),\n",
       " ((84.0, 125.0, 18), 4),\n",
       " ((89.0, 131.0, 20), 4),\n",
       " ((90.0, 130.0, 18), 4),\n",
       " ((100.0, 500.0, 27), 4),\n",
       " ((127.0, 588.0, 22), 4),\n",
       " ((129.0, 589.0, 23), 4),\n",
       " ((130.0, 587.0, 21), 4),\n",
       " ((131.0, 587.0, 21), 4),\n",
       " ((132.0, 591.0, 22), 4),\n",
       " ((132.0, 610.0, 19), 4),\n",
       " ((136.0, 603.0, 22), 4),\n",
       " ((135.0, 602.0, 18), 4),\n",
       " ((135.0, 611.0, 18), 4),\n",
       " ((144.0, 405.0, 25), 4),\n",
       " ((137.0, 599.0, 18), 4),\n",
       " ((148.0, 407.0, 26), 4),\n",
       " ((149.0, 407.0, 26), 4),\n",
       " ((156.0, 69.0, 18), 4),\n",
       " ((159.0, 70.0, 21), 4),\n",
       " ((157.0, 63.0, 18), 4),\n",
       " ((159.0, 74.0, 19), 4),\n",
       " ((167.0, 378.0, 27), 4),\n",
       " ((159.0, 67.0, 18), 4),\n",
       " ((168.0, 378.0, 27), 4),\n",
       " ((164.0, 425.0, 20), 4),\n",
       " ((172.0, 381.0, 27), 4),\n",
       " ((167.0, 425.0, 20), 4),\n",
       " ((174.0, 381.0, 26), 4),\n",
       " ((174.0, 381.0, 25), 4),\n",
       " ((177.0, 381.0, 27), 4),\n",
       " ((181.0, 248.0, 27), 4),\n",
       " ((181.0, 250.0, 26), 4),\n",
       " ((181.0, 250.0, 25), 4),\n",
       " ((184.0, 406.0, 26), 4),\n",
       " ((177.0, 252.0, 18), 4),\n",
       " ((181.0, 253.0, 22), 4),\n",
       " ((186.0, 406.0, 26), 4),\n",
       " ((181.0, 257.0, 20), 4),\n",
       " ((183.0, 257.0, 22), 4),\n",
       " ((184.0, 405.0, 23), 4),\n",
       " ((181.0, 259.0, 18), 4),\n",
       " ((184.0, 260.0, 19), 4),\n",
       " ((187.0, 257.0, 21), 4),\n",
       " ((188.0, 258.0, 22), 4),\n",
       " ((186.0, 259.0, 19), 4),\n",
       " ((190.0, 259.0, 23), 4),\n",
       " ((191.0, 261.0, 24), 4),\n",
       " ((193.0, 262.0, 25), 4),\n",
       " ((193.0, 263.0, 25), 4),\n",
       " ((192.0, 236.0, 21), 4),\n",
       " ((191.0, 237.0, 20), 4),\n",
       " ((190.0, 264.0, 19), 4),\n",
       " ((191.0, 264.0, 20), 4),\n",
       " ((195.0, 264.0, 24), 4),\n",
       " ((196.0, 265.0, 25), 4),\n",
       " ((190.0, 242.0, 18), 4),\n",
       " ((192.0, 242.0, 20), 4),\n",
       " ((195.0, 262.0, 23), 4),\n",
       " ((192.0, 266.0, 20), 4),\n",
       " ((193.0, 262.0, 20), 4),\n",
       " ((195.0, 262.0, 22), 4),\n",
       " ((193.0, 267.0, 20), 4),\n",
       " ((193.0, 234.0, 18), 4),\n",
       " ((193.0, 236.0, 18), 4),\n",
       " ((193.0, 243.0, 18), 4),\n",
       " ((194.0, 264.0, 19), 4),\n",
       " ((195.0, 233.0, 19), 4),\n",
       " ((194.0, 265.0, 18), 4),\n",
       " ((198.0, 265.0, 22), 4),\n",
       " ((199.0, 268.0, 23), 4),\n",
       " ((196.0, 283.0, 20), 4),\n",
       " ((200.0, 270.0, 23), 4),\n",
       " ((198.0, 267.0, 20), 4),\n",
       " ((200.0, 276.0, 19), 4),\n",
       " ((203.0, 282.0, 22), 4),\n",
       " ((204.0, 273.0, 21), 4),\n",
       " ((204.0, 274.0, 21), 4),\n",
       " ((204.0, 278.0, 21), 4),\n",
       " ((206.0, 214.0, 22), 4),\n",
       " ((204.0, 275.0, 18), 4),\n",
       " ((205.0, 215.0, 18), 4),\n",
       " ((206.0, 285.0, 19), 4),\n",
       " ((205.0, 286.0, 18), 4),\n",
       " ((209.0, 380.0, 19), 4),\n",
       " ((212.0, 386.0, 20), 4),\n",
       " ((212.0, 379.0, 19), 4),\n",
       " ((213.0, 221.0, 18), 4),\n",
       " ((220.0, 388.0, 18), 4),\n",
       " ((252.0, 49.0, 20), 4),\n",
       " ((251.0, 50.0, 19), 4),\n",
       " ((250.0, 53.0, 18), 4),\n",
       " ((253.0, 42.0, 18), 4),\n",
       " ((254.0, 46.0, 18), 4),\n",
       " ((256.0, 51.0, 20), 4),\n",
       " ((255.0, 51.0, 18), 4),\n",
       " ((258.0, 47.0, 18), 4),\n",
       " ((344.0, 550.0, 27), 4),\n",
       " ((345.0, 548.0, 26), 4),\n",
       " ((348.0, 550.0, 27), 4),\n",
       " ((346.0, 550.0, 24), 4),\n",
       " ((346.0, 551.0, 23), 4),\n",
       " ((348.0, 551.0, 24), 4),\n",
       " ((343.0, 556.0, 18), 4),\n",
       " ((349.0, 556.0, 19), 4),\n",
       " ((349.0, 556.0, 18), 4),\n",
       " ((363.0, 529.0, 20), 4),\n",
       " ((361.0, 538.0, 18), 4),\n",
       " ((371.0, 121.0, 19), 4),\n",
       " ((373.0, 121.0, 19), 4),\n",
       " ((374.0, 122.0, 20), 4),\n",
       " ((380.0, 139.0, 21), 4),\n",
       " ((380.0, 142.0, 21), 4),\n",
       " ((380.0, 137.0, 19), 4),\n",
       " ((381.0, 140.0, 20), 4),\n",
       " ((382.0, 143.0, 19), 4),\n",
       " ((392.0, 407.0, 20), 4),\n",
       " ((396.0, 410.0, 20), 4),\n",
       " ((397.0, 432.0, 18), 4),\n",
       " ((416.0, 47.0, 20), 4)]"
      ]
     },
     "execution_count": 36,
     "metadata": {},
     "output_type": "execute_result"
    }
   ],
   "source": [
    "circles"
   ]
  },
  {
   "cell_type": "code",
   "execution_count": null,
   "metadata": {},
   "outputs": [],
   "source": [
    "circles = np.asarray([[x[0][0], x[0][1], x[0][2], x[1]] for x in circles]).astype(int)"
   ]
  },
  {
   "cell_type": "code",
   "execution_count": null,
   "metadata": {},
   "outputs": [],
   "source": [
    "draw_circles(img, circles, name=\"coin_edge.jpg\")"
   ]
  },
  {
   "cell_type": "code",
   "execution_count": null,
   "metadata": {},
   "outputs": [],
   "source": []
  },
  {
   "cell_type": "code",
   "execution_count": null,
   "metadata": {},
   "outputs": [],
   "source": []
  },
  {
   "cell_type": "code",
   "execution_count": 13,
   "metadata": {},
   "outputs": [
    {
     "data": {
      "text/plain": [
       "True"
      ]
     },
     "execution_count": 13,
     "metadata": {},
     "output_type": "execute_result"
    }
   ],
   "source": [
    "struc_elem = np.ones((5,5)).astype(np.uint8)\n",
    "boundary2 = task1.dilation(boundary, struc_elem)\n",
    "boundary2 = task1.boundary(boundary2)\n",
    "cv2.imwrite(\"../task3_img/boundary2.jpg\", boundary2*255)"
   ]
  },
  {
   "cell_type": "code",
   "execution_count": null,
   "metadata": {},
   "outputs": [],
   "source": []
  },
  {
   "cell_type": "code",
   "execution_count": null,
   "metadata": {},
   "outputs": [],
   "source": []
  },
  {
   "cell_type": "code",
   "execution_count": null,
   "metadata": {},
   "outputs": [],
   "source": []
  },
  {
   "cell_type": "code",
   "execution_count": null,
   "metadata": {},
   "outputs": [],
   "source": [
    "img = img.copy()\n",
    "    for line in lines:\n",
    "        rho = line[0]\n",
    "        theta = line[1]\n",
    "        a = np.cos(theta)\n",
    "        b = np.sin(theta)\n",
    "        x0 = a*rho\n",
    "        y0 = b*rho\n",
    "        x1 = int(x0 + 1000*(-b))\n",
    "        y1 = int(y0 + 1000*(a))\n",
    "        x2 = int(x0 - 1000*(-b))\n",
    "        y2 = int(y0 - 1000*(a))\n",
    "        cv2.line(img,(x1,y1),(x2,y2),(0,0,255),2)\n",
    "    cv2.imwrite(loc+name, img) "
   ]
  },
  {
   "cell_type": "code",
   "execution_count": 21,
   "metadata": {},
   "outputs": [
    {
     "data": {
      "text/plain": [
       "[((135.0, 279.0, 45), 4),\n",
       " ((267.0, 292.0, 44), 4),\n",
       " ((268.0, 293.0, 45), 4),\n",
       " ((279.0, 384.0, 45), 4),\n",
       " ((311.0, 245.0, 48), 4),\n",
       " ((329.0, 427.0, 51), 4),\n",
       " ((401.0, 102.0, 47), 4)]"
      ]
     },
     "execution_count": 21,
     "metadata": {},
     "output_type": "execute_result"
    }
   ],
   "source": [
    "cv2.circle(img,(447,63), 63, (0,0,255), -1)"
   ]
  },
  {
   "cell_type": "code",
   "execution_count": 22,
   "metadata": {},
   "outputs": [
    {
     "data": {
      "text/plain": [
       "48397244"
      ]
     },
     "execution_count": 22,
     "metadata": {},
     "output_type": "execute_result"
    }
   ],
   "source": [
    "len(chres)"
   ]
  },
  {
   "cell_type": "code",
   "execution_count": 19,
   "metadata": {},
   "outputs": [
    {
     "data": {
      "text/plain": [
       "3.141592653589793"
      ]
     },
     "execution_count": 19,
     "metadata": {},
     "output_type": "execute_result"
    }
   ],
   "source": [
    "np.pi"
   ]
  },
  {
   "cell_type": "code",
   "execution_count": 18,
   "metadata": {},
   "outputs": [
    {
     "ename": "NameError",
     "evalue": "name 'edge_img' is not defined",
     "output_type": "error",
     "traceback": [
      "\u001b[0;31m---------------------------------------------------------------------------\u001b[0m",
      "\u001b[0;31mNameError\u001b[0m                                 Traceback (most recent call last)",
      "\u001b[0;32m<ipython-input-18-21521cb866ed>\u001b[0m in \u001b[0;36m<module>\u001b[0;34m()\u001b[0m\n\u001b[0;32m----> 1\u001b[0;31m \u001b[0medge_img\u001b[0m\u001b[0;34m.\u001b[0m\u001b[0mshape\u001b[0m\u001b[0;34m\u001b[0m\u001b[0m\n\u001b[0m",
      "\u001b[0;31mNameError\u001b[0m: name 'edge_img' is not defined"
     ]
    }
   ],
   "source": [
    "edge_img.shape"
   ]
  },
  {
   "cell_type": "code",
   "execution_count": null,
   "metadata": {},
   "outputs": [],
   "source": [
    "For each pixel(x,y)\n",
    "    For each radius r = 10 to r = 60 // the possible radius\n",
    "      For each theta t = 0 to 360  // the possible  theta 0 to 360 \n",
    "         a = x – r * cos(t * PI / 180); //polar coordinate for center\n",
    "         b = y – r * sin(t * PI / 180);  //polar coordinate for center \n",
    "         A[a,b,r] +=1; //voting\n",
    "      end\n",
    "    end\n",
    "  end"
   ]
  },
  {
   "cell_type": "code",
   "execution_count": 20,
   "metadata": {},
   "outputs": [],
   "source": [
    "coin1 = cv2.imread('../task3_img/coin1.jpg')"
   ]
  },
  {
   "cell_type": "code",
   "execution_count": 21,
   "metadata": {},
   "outputs": [
    {
     "data": {
      "text/plain": [
       "(48, 50, 3)"
      ]
     },
     "execution_count": 21,
     "metadata": {},
     "output_type": "execute_result"
    }
   ],
   "source": [
    "coin1.shape"
   ]
  },
  {
   "cell_type": "code",
   "execution_count": 22,
   "metadata": {},
   "outputs": [],
   "source": [
    "coin2 = cv2.imread('../task3_img/coin2.jpg')"
   ]
  },
  {
   "cell_type": "code",
   "execution_count": 23,
   "metadata": {},
   "outputs": [
    {
     "data": {
      "text/plain": [
       "(44, 47, 3)"
      ]
     },
     "execution_count": 23,
     "metadata": {},
     "output_type": "execute_result"
    }
   ],
   "source": [
    "coin2.shape"
   ]
  },
  {
   "cell_type": "code",
   "execution_count": null,
   "metadata": {},
   "outputs": [],
   "source": [
    "40 to 50"
   ]
  },
  {
   "cell_type": "code",
   "execution_count": null,
   "metadata": {},
   "outputs": [],
   "source": []
  },
  {
   "cell_type": "code",
   "execution_count": null,
   "metadata": {},
   "outputs": [],
   "source": []
  },
  {
   "cell_type": "code",
   "execution_count": null,
   "metadata": {},
   "outputs": [],
   "source": []
  },
  {
   "cell_type": "code",
   "execution_count": null,
   "metadata": {},
   "outputs": [],
   "source": []
  },
  {
   "cell_type": "code",
   "execution_count": null,
   "metadata": {},
   "outputs": [],
   "source": []
  },
  {
   "cell_type": "markdown",
   "metadata": {},
   "source": [
    "### Hough Transform in OpenCV"
   ]
  },
  {
   "cell_type": "code",
   "execution_count": 4,
   "metadata": {},
   "outputs": [],
   "source": [
    "cv2.namedWindow('img', cv2.WINDOW_NORMAL)\n",
    "cv2.imshow('img', img)\n",
    "cv2.waitKey(0)\n",
    "cv2.destroyAllWindows()"
   ]
  },
  {
   "cell_type": "markdown",
   "metadata": {},
   "source": [
    "### Probabilistic Hough Transform"
   ]
  },
  {
   "cell_type": "code",
   "execution_count": 16,
   "metadata": {},
   "outputs": [
    {
     "data": {
      "text/plain": [
       "True"
      ]
     },
     "execution_count": 16,
     "metadata": {},
     "output_type": "execute_result"
    }
   ],
   "source": [
    "img = cv2.imread('../task3_img/hough.jpg')\n",
    "gray = cv2.cvtColor(img,cv2.COLOR_BGR2GRAY)\n",
    "edges = cv2.Canny(gray,50,150,apertureSize = 3)\n",
    "cv2.imwrite('../task3_img/cannyedge.jpg', edges) "
   ]
  },
  {
   "cell_type": "code",
   "execution_count": 15,
   "metadata": {},
   "outputs": [
    {
     "data": {
      "text/plain": [
       "array([[255,   0,   0, ...,   0,   0,   0],\n",
       "       [255,   0,   0, ...,   0,   0,   0],\n",
       "       [255,   0,   0, ...,   0,   0,   0],\n",
       "       ...,\n",
       "       [  0, 255,   0, ...,   0,   0,   0],\n",
       "       [  0, 255,   0, ...,   0,   0,   0],\n",
       "       [  0, 255,   0, ...,   0,   0,   0]], dtype=uint8)"
      ]
     },
     "execution_count": 15,
     "metadata": {},
     "output_type": "execute_result"
    }
   ],
   "source": [
    "edges"
   ]
  },
  {
   "cell_type": "code",
   "execution_count": 3,
   "metadata": {},
   "outputs": [],
   "source": [
    "\n",
    "lines = cv2.HoughLinesP(edges,1,np.pi/180,100,minLineLength=100,maxLineGap=10)\n",
    "for line in lines:\n",
    "    x1,y1,x2,y2 = line[0]\n",
    "    cv2.line(img,(x1,y1),(x2,y2),(0,255,0),2)\n",
    "    #cv2.imwrite('houghlines5.jpg',img)\n"
   ]
  },
  {
   "cell_type": "code",
   "execution_count": 4,
   "metadata": {},
   "outputs": [],
   "source": [
    "cv2.namedWindow('img', cv2.WINDOW_NORMAL)\n",
    "cv2.imshow('img', img)\n",
    "cv2.waitKey(0)\n",
    "cv2.destroyAllWindows()"
   ]
  },
  {
   "cell_type": "code",
   "execution_count": 7,
   "metadata": {},
   "outputs": [
    {
     "data": {
      "text/plain": [
       "array([[  0, 448,   0,   0]], dtype=int32)"
      ]
     },
     "execution_count": 7,
     "metadata": {},
     "output_type": "execute_result"
    }
   ],
   "source": [
    "lines[0]"
   ]
  },
  {
   "cell_type": "code",
   "execution_count": null,
   "metadata": {},
   "outputs": [],
   "source": []
  },
  {
   "cell_type": "markdown",
   "metadata": {},
   "source": [
    "### Hough Circle Transform"
   ]
  },
  {
   "cell_type": "code",
   "execution_count": 8,
   "metadata": {},
   "outputs": [],
   "source": [
    "img = cv2.imread('../task3_img/hough.jpg',0)\n",
    "img = cv2.medianBlur(img,5)\n",
    "cimg = cv2.cvtColor(img,cv2.COLOR_GRAY2BGR)\n",
    "img = inv_binary_img(img, 127) *255\n",
    "\n"
   ]
  },
  {
   "cell_type": "code",
   "execution_count": 9,
   "metadata": {},
   "outputs": [],
   "source": [
    "circles = cv2.HoughCircles(img,cv2.HOUGH_GRADIENT,1,20, param1=50,param2=30,minRadius=0,maxRadius=0)\n",
    "circles = np.uint16(np.around(circles))\n",
    "for i in circles[0,:]:\n",
    "    # draw the outer circle\n",
    "    cv2.circle(cimg,(i[0],i[1]),i[2],(0,255,0),2)\n",
    "    # draw the center of the circle\n",
    "    cv2.circle(cimg,(i[0],i[1]),2,(0,0,255),3)\n",
    "    \n",
    "cv2.imshow('detected circles',cimg)\n",
    "cv2.waitKey(0)\n",
    "cv2.destroyAllWindows()"
   ]
  },
  {
   "cell_type": "code",
   "execution_count": null,
   "metadata": {},
   "outputs": [],
   "source": []
  },
  {
   "cell_type": "code",
   "execution_count": null,
   "metadata": {},
   "outputs": [],
   "source": []
  },
  {
   "cell_type": "code",
   "execution_count": 5,
   "metadata": {},
   "outputs": [],
   "source": [
    "def inv_binary_img(img_gray, T):\n",
    "    res_img = np.zeros(img.shape).astype(np.uint8)\n",
    "    for i in range(img.shape[0]):\n",
    "        for j in range(img.shape[1]):\n",
    "            if img[i,j] < T:\n",
    "                res_img[i,j] = 1\n",
    "    return res_img"
   ]
  },
  {
   "cell_type": "code",
   "execution_count": 19,
   "metadata": {},
   "outputs": [],
   "source": [
    "def count_pixel(gray_img):\n",
    "    pdict = {}\n",
    "    for row in img:\n",
    "        for val in row:\n",
    "            if val not in pdict:\n",
    "                pdict[val] = 0\n",
    "            pdict[val] += 1\n",
    "    return pdict"
   ]
  },
  {
   "cell_type": "code",
   "execution_count": 20,
   "metadata": {},
   "outputs": [],
   "source": [
    "img = cv2.imread('../task3_img/hough.jpg',0)"
   ]
  },
  {
   "cell_type": "code",
   "execution_count": 21,
   "metadata": {},
   "outputs": [
    {
     "data": {
      "image/png": "[encoded data removed]",
      "text/plain": [
       "<Figure size 432x288 with 1 Axes>"
      ]
     },
     "metadata": {
      "needs_background": "light"
     },
     "output_type": "display_data"
    }
   ],
   "source": [
    "pdict = count_pixel(img)\n",
    "pdict = count_pixel(img)\n",
    "plist = np.asarray([[key,val] for key,val in pdict.items() if key != 0])\n",
    "plist_t = plist.T\n",
    "plt.bar(plist_t[0],plist_t[1],align='center') # A bar chart\n",
    "plt.xlabel('Bins')\n",
    "plt.ylabel('Frequency')\n",
    "plt.show()"
   ]
  },
  {
   "cell_type": "code",
   "execution_count": null,
   "metadata": {},
   "outputs": [],
   "source": []
  },
  {
   "cell_type": "code",
   "execution_count": 15,
   "metadata": {},
   "outputs": [],
   "source": [
    "img = cv2.imread('../task3_img/hough.jpg',0)\n",
    "edges = cv2.Canny(img,50,150,apertureSize = 3)\n",
    "cv2.namedWindow('edges', cv2.WINDOW_NORMAL)\n",
    "cv2.imshow('edges', edges)\n",
    "cv2.waitKey(0)\n",
    "cv2.destroyAllWindows()"
   ]
  },
  {
   "cell_type": "code",
   "execution_count": 10,
   "metadata": {},
   "outputs": [],
   "source": [
    "img = cv2.imread('../task3_img/hough.jpg',0)\n",
    "res_img = inv_binary_img(img, 127) * 255\n",
    "cv2.namedWindow('res_img', cv2.WINDOW_NORMAL)\n",
    "cv2.imshow('res_img', res_img)\n",
    "cv2.waitKey(0)\n",
    "cv2.destroyAllWindows()"
   ]
  },
  {
   "cell_type": "code",
   "execution_count": 12,
   "metadata": {},
   "outputs": [
    {
     "data": {
      "text/plain": [
       "array([[0., 0.]], dtype=float32)"
      ]
     },
     "execution_count": 12,
     "metadata": {},
     "output_type": "execute_result"
    }
   ],
   "source": [
    "lines[0]"
   ]
  },
  {
   "cell_type": "code",
   "execution_count": null,
   "metadata": {},
   "outputs": [],
   "source": []
  },
  {
   "cell_type": "code",
   "execution_count": 11,
   "metadata": {},
   "outputs": [],
   "source": [
    "img2 = cv2.imread('../task3_img/hough.jpg')\n",
    "img = cv2.imread('../task3_img/hough.jpg',0)\n",
    "img = cv2.medianBlur(img,5)\n",
    "th3 = cv2.adaptiveThreshold(img,255,cv2.ADAPTIVE_THRESH_GAUSSIAN_C,\\\n",
    "                            cv2.THRESH_BINARY,11,2)\n",
    "#plt.imshow(th3, 'gray')"
   ]
  },
  {
   "cell_type": "code",
   "execution_count": 12,
   "metadata": {},
   "outputs": [],
   "source": [
    "th3_inv = inv_binary_img(th3, 127)"
   ]
  },
  {
   "cell_type": "code",
   "execution_count": 15,
   "metadata": {},
   "outputs": [],
   "source": [
    "lines = cv2.HoughLines(th3_inv,1,np.pi/180,200)\n",
    "for line in lines:\n",
    "    rho,theta = line[0]\n",
    "    a = np.cos(theta)\n",
    "    b = np.sin(theta)\n",
    "    x0 = a*rho\n",
    "    y0 = b*rho\n",
    "    x1 = int(x0 + 1000*(-b))\n",
    "    y1 = int(y0 + 1000*(a))\n",
    "    x2 = int(x0 - 1000*(-b))\n",
    "    y2 = int(y0 - 1000*(a))\n",
    "    cv2.line(img2,(x1,y1),(x2,y2),(0,0,255),2)"
   ]
  },
  {
   "cell_type": "code",
   "execution_count": 16,
   "metadata": {},
   "outputs": [],
   "source": [
    "cv2.namedWindow('img2', cv2.WINDOW_NORMAL)\n",
    "cv2.imshow('img2', img2)\n",
    "cv2.waitKey(0)\n",
    "cv2.destroyAllWindows()"
   ]
  },
  {
   "cell_type": "markdown",
   "metadata": {},
   "source": [
    "## Depreciated"
   ]
  },
  {
   "cell_type": "code",
   "execution_count": 4,
   "metadata": {},
   "outputs": [],
   "source": [
    "# unused\n",
    "def magnitude_edges(edge_x, edge_y):\n",
    "    \"\"\"\n",
    "    Purpose: \n",
    "        Combine the vertical image and horizontal image.\n",
    "    Input:\n",
    "        edge_x: two dimension matrix\n",
    "            the image filted by VERTICAL_SOBEL\n",
    "        edge_y: two dimension matrix\n",
    "            the image filted by HORIZONTAL_SOBEL\n",
    "    Output:\n",
    "        edge_magnitude: two dimension matrix\n",
    "            the image combined by edge_x and edge_y\n",
    "        \n",
    "    \"\"\"\n",
    "    edge_magnitude = np.sqrt(edge_x ** 2 + edge_y ** 2)\n",
    "    max_ = np.max(edge_magnitude)\n",
    "    edge_magnitude /= max_\n",
    "    return edge_magnitude"
   ]
  },
  {
   "cell_type": "code",
   "execution_count": null,
   "metadata": {},
   "outputs": [],
   "source": []
  }
 ],
 "metadata": {
  "kernelspec": {
   "display_name": "projectname",
   "language": "python",
   "name": "projectname"
  },
  "language_info": {
   "codemirror_mode": {
    "name": "ipython",
    "version": 3
   },
   "file_extension": ".py",
   "mimetype": "text/x-python",
   "name": "python",
   "nbconvert_exporter": "python",
   "pygments_lexer": "ipython3",
   "version": "3.7.0"
  }
 },
 "nbformat": 4,
 "nbformat_minor": 2
}
