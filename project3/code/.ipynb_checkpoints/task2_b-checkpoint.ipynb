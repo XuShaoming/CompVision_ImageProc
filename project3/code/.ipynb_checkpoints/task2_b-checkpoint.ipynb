{
 "cells": [
  {
   "cell_type": "code",
   "execution_count": 1,
   "metadata": {},
   "outputs": [],
   "source": [
    "import numpy as np\n",
    "import cv2\n",
    "import matplotlib.pyplot as plt\n",
    "import task1\n",
    "from mylibrary import count_pixels\n",
    "import sys\n",
    "%matplotlib inline"
   ]
  },
  {
   "cell_type": "code",
   "execution_count": 21,
   "metadata": {},
   "outputs": [],
   "source": [
    "np.set_printoptions(suppress=False)\n",
    "np.set_printoptions(threshold=np.nan)"
   ]
  },
  {
   "cell_type": "code",
   "execution_count": 2,
   "metadata": {},
   "outputs": [],
   "source": [
    "def thresh(gray_img, T):\n",
    "    res_img = np.zeros(gray_img.shape).astype(np.uint8)\n",
    "    for i in range(gray_img.shape[0]):\n",
    "        for j in range(gray_img.shape[1]):\n",
    "            if gray_img[i,j] > T:\n",
    "                res_img[i,j] = 1\n",
    "    return res_img"
   ]
  },
  {
   "cell_type": "code",
   "execution_count": 3,
   "metadata": {},
   "outputs": [],
   "source": [
    "def numIslands(binary_img):\n",
    "    if binary_img is None or binary_img.shape[0] == 0 or binary_img.shape[1] == 0:\n",
    "        return 0, []\n",
    "    \n",
    "    obj_bank = []\n",
    "    binary = binary_img.copy()\n",
    "    \n",
    "    for i in range(binary.shape[0]):\n",
    "        for j in range(binary.shape[1]):\n",
    "            if binary[i,j] == 1:\n",
    "                obj = []\n",
    "                dfs(binary, i, j, obj)\n",
    "                obj_bank.append(obj)\n",
    "                \n",
    "    return obj_bank"
   ]
  },
  {
   "cell_type": "code",
   "execution_count": 4,
   "metadata": {},
   "outputs": [],
   "source": [
    "def dfs(grid, x, y, obj):\n",
    "    n = grid.shape[0]\n",
    "    m = grid.shape[1]\n",
    "    if x < 0 or x > n - 1 or y < 0 or y > m - 1 or grid[x, y] == 0:\n",
    "        return\n",
    "    obj.append([x,y])\n",
    "    grid[x,y] = 0\n",
    "    dfs(grid, x+1, y, obj)\n",
    "    dfs(grid, x-1, y, obj)\n",
    "    dfs(grid, x, y-1, obj)\n",
    "    dfs(grid, x, y+1, obj)"
   ]
  },
  {
   "cell_type": "code",
   "execution_count": 5,
   "metadata": {},
   "outputs": [],
   "source": [
    "def draw_box(img, binary, obj_bank):\n",
    "    res_img = img.copy()\n",
    "    binary_color = cv2.cvtColor(binary*255, cv2.COLOR_GRAY2BGR)\n",
    "    res_dcolor = binary_color\n",
    "    \n",
    "    for obj in obj_bank:\n",
    "        obj = np.asarray(obj).T\n",
    "        up = min(obj[0])\n",
    "        down = max(obj[0])\n",
    "        left = min(obj[1])\n",
    "        right = max(obj[1])\n",
    "        res_img = cv2.rectangle(res_img,(left, up),(right,down),(0,255,0),shift=0)\n",
    "        res_dcolor = cv2.rectangle(res_dcolor,(left, up),(right,down),(0,255,0),shift=0)\n",
    "        \n",
    "    return res_img, res_dcolor "
   ]
  },
  {
   "cell_type": "code",
   "execution_count": 6,
   "metadata": {},
   "outputs": [
    {
     "name": "stdout",
     "output_type": "stream",
     "text": [
      "There are 10 objects\n",
      "object 0 has 2314 numbers pixels\n",
      "object 1 has 1273 numbers pixels\n",
      "object 2 has 610 numbers pixels\n",
      "object 3 has 103 numbers pixels\n",
      "object 4 has 106 numbers pixels\n",
      "object 5 has 89 numbers pixels\n",
      "object 6 has 31 numbers pixels\n",
      "object 7 has 42 numbers pixels\n",
      "object 8 has 244 numbers pixels\n",
      "object 9 has 140 numbers pixels\n"
     ]
    }
   ],
   "source": [
    "if __name__ == \"__main__\":\n",
    "    img = cv2.imread(\"../task2b_img/segment.jpg\")\n",
    "    img_gray = cv2.cvtColor(img, cv2.COLOR_BGR2GRAY)\n",
    "    pixel_stat = count_pixels(img_gray)\n",
    "    stat_list = np.asarray([[key,val] for key,val in pixel_stat.items() if key != 0]).T\n",
    "    \n",
    "    # save the histogram\n",
    "    plt.bar(stat_list[0],stat_list[1],align='center') # A bar chart\n",
    "    plt.title(\"pixel numbers count (value > 0)\")\n",
    "    plt.xlabel('pixel value')\n",
    "    plt.ylabel('number')\n",
    "    plt.savefig(\"../task2b_img/task2b_hist\")\n",
    "    plt.close()\n",
    "    \n",
    "    # observe the histogram to get T\n",
    "    T = 205\n",
    "    binary_img = thresh(img_gray, 205)\n",
    "    #denoise the binary_img\n",
    "    struc_elem = np.ones((3,3)).astype(np.uint8)\n",
    "    denoised = task1.denoising(method=2)(binary_img, struc_elem)\n",
    "    obj_bank = numIslands(denoised)\n",
    "    print(\"There are {} objects\".format(len(obj_bank)))\n",
    "    for i in range(len(obj_bank)):\n",
    "        print(\"object {} has {} numbers pixels\".format(i, len(obj_bank[i])))\n",
    "    \n",
    "    img_res, dcolor_res = draw_box(img, denoised, obj_bank)\n",
    "    cv2.imwrite('../task2b_img/res_segment.jpg', img_res)\n",
    "    cv2.imwrite('../task2b_img/res_segment_2.jpg', dcolor_res)"
   ]
  },
  {
   "cell_type": "code",
   "execution_count": null,
   "metadata": {},
   "outputs": [],
   "source": []
  },
  {
   "cell_type": "markdown",
   "metadata": {},
   "source": [
    "### Depreciated"
   ]
  },
  {
   "cell_type": "code",
   "execution_count": 3,
   "metadata": {},
   "outputs": [],
   "source": [
    "def draw_box_all(img, denoised):\n",
    "    \"\"\"\n",
    "    Input:\n",
    "        img: a color img\n",
    "        denoise: matrix, a binary image. its values equal 0 or 1\n",
    "    \"\"\"\n",
    "    mark_dict = {}\n",
    "    # find up\n",
    "    up = 0\n",
    "    down = 0\n",
    "    left = 0\n",
    "    right = 0\n",
    "    for i in range(denoised.shape[0]):\n",
    "        if np.any(denoised[i] == 1):\n",
    "            up = i\n",
    "            break\n",
    "    for i in reversed(range(denoised.shape[0])):\n",
    "        if np.any(denoised[i] == 1):\n",
    "            down = i\n",
    "            break\n",
    "            \n",
    "    denoised_T = denoised.T\n",
    "    for i in range(denoised_T.shape[0]):\n",
    "        if np.any(denoised_T[i] == 1):\n",
    "            left = i\n",
    "            break\n",
    "    for i in reversed(range(denoised_T.shape[0])):\n",
    "        if np.any(denoised_T[i] == 1):\n",
    "            right = i\n",
    "            break\n",
    "    \n",
    "    res_img = cv2.rectangle(img,(left, up),(right,down),(0,255,0),shift=0)\n",
    "    denoised_color = cv2.cvtColor(denoised*255, cv2.COLOR_GRAY2BGR)\n",
    "    res_dcolor = cv2.rectangle(denoised_color,(left, up),(right,down),(0,255,0),shift=0)\n",
    "    return res_img, res_dcolor"
   ]
  },
  {
   "cell_type": "code",
   "execution_count": null,
   "metadata": {},
   "outputs": [],
   "source": []
  }
 ],
 "metadata": {
  "kernelspec": {
   "display_name": "projectname",
   "language": "python",
   "name": "projectname"
  },
  "language_info": {
   "codemirror_mode": {
    "name": "ipython",
    "version": 3
   },
   "file_extension": ".py",
   "mimetype": "text/x-python",
   "name": "python",
   "nbconvert_exporter": "python",
   "pygments_lexer": "ipython3",
   "version": "3.7.0"
  }
 },
 "nbformat": 4,
 "nbformat_minor": 2
}
