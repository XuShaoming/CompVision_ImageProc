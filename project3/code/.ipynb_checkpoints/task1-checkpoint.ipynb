{
 "cells": [
  {
   "cell_type": "code",
   "execution_count": 1,
   "metadata": {},
   "outputs": [],
   "source": [
    "import numpy as np\n",
    "import cv2\n",
    "import math"
   ]
  },
  {
   "cell_type": "code",
   "execution_count": 2,
   "metadata": {},
   "outputs": [],
   "source": [
    "def dilation(binary_image, selem):\n",
    "    \"\"\"\n",
    "    Purpose:\n",
    "        Do dilation operation on binary image.\n",
    "    Input:\n",
    "        binary_image: int, 2D numpy array, value 0 or 1\n",
    "        selem: int, 2D numpy array. The structuring element\n",
    "    Output:\n",
    "        the dilated image.\n",
    "    \"\"\"\n",
    "    row_pad = math.floor(selem.shape[0] / 2)\n",
    "    col_pad = math.floor(selem.shape[1] / 2)\n",
    "    res_img = np.zeros(binary_image.shape)\n",
    "    check_img = np.pad(binary_image, ((row_pad,row_pad),(col_pad, col_pad)), 'constant')\n",
    "    flipped_selem = np.flip(selem)\n",
    "    for i in np.arange(row_pad, check_img.shape[0] - row_pad):\n",
    "        for j in np.arange(col_pad, check_img.shape[1] - col_pad):\n",
    "            patch = check_img[i-row_pad:i+row_pad+1, j-col_pad:j+col_pad+1]\n",
    "            if np.any(patch & flipped_selem == 1): \n",
    "                res_img[i-row_pad, j-col_pad] = 1            \n",
    "    return res_img.astype(np.uint8)"
   ]
  },
  {
   "cell_type": "code",
   "execution_count": 3,
   "metadata": {},
   "outputs": [],
   "source": [
    "def erosion(binary_image, selem):\n",
    "    \"\"\"\n",
    "    Purpose:\n",
    "        Do erosion operation on binary image.\n",
    "    Input:\n",
    "        binary_image: int, 2D numpy array, value 0 or 1\n",
    "        selem: int, 2D numpy array. The structuring element\n",
    "    Output:\n",
    "        the eroded image.\n",
    "    \"\"\"\n",
    "    row_pad = math.floor(selem.shape[0] / 2)\n",
    "    col_pad = math.floor(selem.shape[1] / 2)\n",
    "    res_img = np.zeros(binary_image.shape)\n",
    "    check_img = np.pad(binary_image, ((row_pad,row_pad),(col_pad, col_pad)), 'constant')\n",
    "    for i in np.arange(row_pad, check_img.shape[0] - row_pad):\n",
    "        for j in np.arange(col_pad, check_img.shape[1] - col_pad):\n",
    "            patch = check_img[i-row_pad:i+row_pad+1, j-col_pad:j+col_pad+1]\n",
    "            if np.all(patch & selem == selem):\n",
    "                res_img[i-row_pad, j-col_pad] = 1\n",
    "    return res_img.astype(np.uint8)"
   ]
  },
  {
   "cell_type": "code",
   "execution_count": 4,
   "metadata": {},
   "outputs": [],
   "source": [
    "def opening(binary_image, selem):\n",
    "    return dilation(erosion(binary_image, selem), selem)\n",
    "\n",
    "def closing(binary_image, selem):\n",
    "    return erosion(dilation(binary_image, selem), selem)\n",
    "\n",
    "def boundary(binary_image):\n",
    "    selem = np.ones((3,3)).astype(np.uint8)\n",
    "    return binary_image - erosion(binary_image, selem)"
   ]
  },
  {
   "cell_type": "code",
   "execution_count": 5,
   "metadata": {},
   "outputs": [],
   "source": [
    "def denoising(method=1):\n",
    "    def method_1(binary_image, selem):\n",
    "        return closing(opening(binary_image, selem), selem)\n",
    "    \n",
    "    def method_2(binary_image, selem):\n",
    "        return opening(closing(binary_image, selem), selem)\n",
    "    \n",
    "    if method == 1:\n",
    "        return method_1\n",
    "    else:\n",
    "        return method_2"
   ]
  },
  {
   "cell_type": "code",
   "execution_count": 6,
   "metadata": {},
   "outputs": [],
   "source": [
    "def threshold(gray_img, thresh):\n",
    "    res_img = np.zeros(gray_img.shape)\n",
    "    for i in range(gray_img.shape[0]):\n",
    "        for j in range(gray_img.shape[1]):\n",
    "            if gray_img[i,j] > thresh:\n",
    "                res_img[i,j] = 1\n",
    "    return res_img.astype(np.uint8)"
   ]
  },
  {
   "cell_type": "code",
   "execution_count": 7,
   "metadata": {},
   "outputs": [],
   "source": [
    "img = cv2.imread(\"../task1_img/noise.jpg\")\n",
    "gray = cv2.cvtColor(img,cv2.COLOR_BGR2GRAY)"
   ]
  },
  {
   "cell_type": "code",
   "execution_count": 12,
   "metadata": {},
   "outputs": [],
   "source": [
    "thresh = 127\n",
    "struc_elem = np.ones((3,3)).astype(np.int8)\n",
    "binary = threshold(gray, thresh)"
   ]
  },
  {
   "cell_type": "code",
   "execution_count": 13,
   "metadata": {},
   "outputs": [
    {
     "data": {
      "text/plain": [
       "True"
      ]
     },
     "execution_count": 13,
     "metadata": {},
     "output_type": "execute_result"
    }
   ],
   "source": [
    "res_noise1 = denoising(method=1)(binary, struc_elem)\n",
    "name = \"../task1_img\" + \"/res_noise1\" + \".jpg\"\n",
    "cv2.imwrite(name, res_noise1*255)\n",
    "\n",
    "res_noise2 = denoising(method=2)(binary, struc_elem)\n",
    "name = \"../task1_img\" + \"/res_noise2\" + \".jpg\"\n",
    "cv2.imwrite(name, res_noise2*255)"
   ]
  },
  {
   "cell_type": "code",
   "execution_count": 10,
   "metadata": {},
   "outputs": [
    {
     "data": {
      "text/plain": [
       "True"
      ]
     },
     "execution_count": 10,
     "metadata": {},
     "output_type": "execute_result"
    }
   ],
   "source": [
    "res_bound1 = boundary(res_noise1)\n",
    "name = \"../task1_img\" + \"/res_bound1\" + \".jpg\"\n",
    "cv2.imwrite(name, res_bound1*255)\n",
    "\n",
    "res_bound2 = boundary(res_noise2)\n",
    "name = \"../task1_img\" + \"/res_bound2\" + \".jpg\"\n",
    "cv2.imwrite(name, res_bound2*255)"
   ]
  },
  {
   "cell_type": "code",
   "execution_count": 14,
   "metadata": {},
   "outputs": [
    {
     "data": {
      "text/plain": [
       "True"
      ]
     },
     "execution_count": 14,
     "metadata": {},
     "output_type": "execute_result"
    }
   ],
   "source": [
    "res_opening = opening(binary, struc_elem)\n",
    "name = \"../task1_img\" + \"/opening\" + \".jpg\"\n",
    "cv2.imwrite(name, res_opening*255)\n",
    "\n",
    "res_closing = closing(binary, struc_elem)\n",
    "name = \"../task1_img\" + \"/closing\" + \".jpg\"\n",
    "cv2.imwrite(name, res_closing*255)"
   ]
  },
  {
   "cell_type": "code",
   "execution_count": null,
   "metadata": {},
   "outputs": [],
   "source": []
  },
  {
   "cell_type": "code",
   "execution_count": null,
   "metadata": {},
   "outputs": [],
   "source": []
  },
  {
   "cell_type": "code",
   "execution_count": null,
   "metadata": {},
   "outputs": [],
   "source": []
  },
  {
   "cell_type": "code",
   "execution_count": 7,
   "metadata": {},
   "outputs": [],
   "source": [
    "img = cv2.imread(\"../task1_img/noise.jpg\", 0)\n",
    "thresh = 127\n",
    "struc_elem = np.ones((3,3)).astype(int)\n",
    "binary_img = threshold(img, thresh)"
   ]
  },
  {
   "cell_type": "code",
   "execution_count": 8,
   "metadata": {},
   "outputs": [
    {
     "data": {
      "text/plain": [
       "True"
      ]
     },
     "execution_count": 8,
     "metadata": {},
     "output_type": "execute_result"
    }
   ],
   "source": [
    "dilated_img = dilation(binary_img, struc_elem)\n",
    "name = \"../task1_img\" + \"/dilated_img\" + \".jpg\"\n",
    "cv2.imwrite(name, dilated_img*255)\n",
    "\n",
    "eroded_img = erosion(binary_img, struc_elem)\n",
    "name = \"../task1_img\" + \"/eroded_img\" + \".jpg\"\n",
    "cv2.imwrite(name, eroded_img*255)"
   ]
  },
  {
   "cell_type": "code",
   "execution_count": null,
   "metadata": {},
   "outputs": [],
   "source": []
  },
  {
   "cell_type": "code",
   "execution_count": 9,
   "metadata": {},
   "outputs": [
    {
     "data": {
      "text/plain": [
       "True"
      ]
     },
     "execution_count": 9,
     "metadata": {},
     "output_type": "execute_result"
    }
   ],
   "source": [
    "res_noise1 = denoising(method=1)(binary_img, struc_elem)\n",
    "name = \"../task1_img\" + \"/res_noise1\" + \".jpg\"\n",
    "cv2.imwrite(name, res_noise1*255)\n",
    "\n",
    "res_noise2 = denoising(method=2)(binary_img, struc_elem)\n",
    "name = \"../task1_img\" + \"/res_noise2\" + \".jpg\"\n",
    "cv2.imwrite(name, res_noise2*255)"
   ]
  },
  {
   "cell_type": "code",
   "execution_count": 11,
   "metadata": {},
   "outputs": [],
   "source": [
    "test = cv2.imread(\"../task1_img/test.jpg\", 0)\n",
    "thresh = 50\n",
    "binary_test = threshold(test, thresh)\n",
    "selem = np.ones((3,3)).astype(int)"
   ]
  },
  {
   "cell_type": "code",
   "execution_count": 12,
   "metadata": {},
   "outputs": [
    {
     "data": {
      "text/plain": [
       "True"
      ]
     },
     "execution_count": 12,
     "metadata": {},
     "output_type": "execute_result"
    }
   ],
   "source": [
    "test_bound = boundary(binary_test)\n",
    "name = \"../task1_img\" + \"/test_bound\" + \".jpg\"\n",
    "cv2.imwrite(name, test_bound*255)"
   ]
  },
  {
   "cell_type": "code",
   "execution_count": null,
   "metadata": {},
   "outputs": [],
   "source": []
  }
 ],
 "metadata": {
  "kernelspec": {
   "display_name": "projectname",
   "language": "python",
   "name": "projectname"
  },
  "language_info": {
   "codemirror_mode": {
    "name": "ipython",
    "version": 3
   },
   "file_extension": ".py",
   "mimetype": "text/x-python",
   "name": "python",
   "nbconvert_exporter": "python",
   "pygments_lexer": "ipython3",
   "version": "3.7.0"
  }
 },
 "nbformat": 4,
 "nbformat_minor": 2
}
