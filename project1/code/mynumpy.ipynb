{
 "cells": [
  {
   "cell_type": "code",
   "execution_count": 2,
   "metadata": {},
   "outputs": [],
   "source": [
    "import numpy as np\n",
    "import cv2\n",
    "import math\n",
    "import sys"
   ]
  },
  {
   "cell_type": "code",
   "execution_count": 2,
   "metadata": {},
   "outputs": [
    {
     "data": {
      "text/plain": [
       "16"
      ]
     },
     "execution_count": 2,
     "metadata": {},
     "output_type": "execute_result"
    }
   ],
   "source": [
    "pow(2,4)"
   ]
  },
  {
   "cell_type": "code",
   "execution_count": 2,
   "metadata": {},
   "outputs": [],
   "source": [
    "def pad(matrix, up=0, down=0, left=0, right=0, val=0):\n",
    "    \"\"\"\n",
    "    Purpose:\n",
    "        do the matrxi padding.\n",
    "    Input:\n",
    "        matrix: a two dimension list\n",
    "        up, down, left, right: int, where and how much the matrix need to be padded\n",
    "        val: pad things\n",
    "    Output:\n",
    "        None\n",
    "    \"\"\"\n",
    "    if up > 0 or down > 0:\n",
    "        col_len = len(matrix[0])\n",
    "        pad_horizontal = []\n",
    "        for i in range(col_len):\n",
    "            pad_horizontal.append(val)\n",
    "        for i in range(up):\n",
    "            matrix.insert(0,pad_horizontal[:])\n",
    "        for i in range(down):\n",
    "            matrix.append(pad_horizontal[:])\n",
    "            \n",
    "    if left > 0 or right > 0:   \n",
    "        for row in matrix:\n",
    "            for i in range(left):\n",
    "                row.insert(0,val)\n",
    "            for i in range(right):\n",
    "                row.append(val)\n",
    "    return matrix\n",
    "    "
   ]
  },
  {
   "cell_type": "code",
   "execution_count": 3,
   "metadata": {},
   "outputs": [],
   "source": [
    "def zeros(row_num, col_num):\n",
    "    res = []\n",
    "    row = []\n",
    "    for i in range(col_num):\n",
    "        row.append(0.0)\n",
    "    for i in range(row_num):\n",
    "        res.append(row[:])\n",
    "        \n",
    "    return res"
   ]
  },
  {
   "cell_type": "code",
   "execution_count": 4,
   "metadata": {},
   "outputs": [],
   "source": [
    "def flip(matrix):\n",
    "    res = []\n",
    "    for row in reversed(matrix):\n",
    "        res.append([i for i in reversed(row)])\n",
    "    return res"
   ]
  },
  {
   "cell_type": "code",
   "execution_count": 5,
   "metadata": {},
   "outputs": [],
   "source": [
    "def inner_product(mat1, mat2):\n",
    "    res = []\n",
    "    for i in range(len(mat1)):\n",
    "        row = []\n",
    "        for j in range(len(mat1[i])):\n",
    "            row.append(mat1[i][j] * mat2[i][j])\n",
    "        res.append(row)\n",
    "    return res"
   ]
  },
  {
   "cell_type": "code",
   "execution_count": 6,
   "metadata": {},
   "outputs": [],
   "source": [
    "def sum_all(mat):\n",
    "    res = 0\n",
    "    for row in mat:\n",
    "        for val in row:\n",
    "            res += val\n",
    "    return res"
   ]
  },
  {
   "cell_type": "code",
   "execution_count": 14,
   "metadata": {},
   "outputs": [],
   "source": [
    "def min_all(mat):\n",
    "    res = sys.maxsize\n",
    "    count = 0\n",
    "    for row in mat:\n",
    "        for val in row:\n",
    "            if val < res:\n",
    "                count = 0\n",
    "                res = val\n",
    "            if val == res:\n",
    "                count += 1\n",
    "    return res, count"
   ]
  },
  {
   "cell_type": "code",
   "execution_count": 7,
   "metadata": {},
   "outputs": [],
   "source": [
    "def max_all(mat):\n",
    "    res = -sys.maxsize - 1\n",
    "    count = 0\n",
    "    for row in mat:\n",
    "        for val in row:\n",
    "            if val > res:\n",
    "                count = 0\n",
    "                res = val\n",
    "            if val == res:\n",
    "                count += 1\n",
    "    return res, count"
   ]
  },
  {
   "cell_type": "code",
   "execution_count": 12,
   "metadata": {},
   "outputs": [],
   "source": [
    "t1 = np.array([[1,2,3],\n",
    "              [1,4,5],\n",
    "              [2,5,5]])"
   ]
  },
  {
   "cell_type": "code",
   "execution_count": 15,
   "metadata": {},
   "outputs": [
    {
     "data": {
      "text/plain": [
       "(1, 2)"
      ]
     },
     "execution_count": 15,
     "metadata": {},
     "output_type": "execute_result"
    }
   ],
   "source": [
    "min_all(t1)"
   ]
  },
  {
   "cell_type": "code",
   "execution_count": 13,
   "metadata": {},
   "outputs": [
    {
     "data": {
      "text/plain": [
       "(5, 3)"
      ]
     },
     "execution_count": 13,
     "metadata": {},
     "output_type": "execute_result"
    }
   ],
   "source": [
    "max_all(t1)"
   ]
  },
  {
   "cell_type": "code",
   "execution_count": 11,
   "metadata": {},
   "outputs": [],
   "source": [
    "def abs_all(mat):\n",
    "    res = []\n",
    "    for row in mat:\n",
    "        res_row = [abs(val) for val in row]\n",
    "        res.append(res_row)\n",
    "    return res"
   ]
  },
  {
   "cell_type": "code",
   "execution_count": 18,
   "metadata": {},
   "outputs": [],
   "source": [
    "def power(x, y): \n",
    "    \"\"\"\n",
    "    https://www.geeksforgeeks.org/write-a-c-program-to-calculate-powxn/\n",
    "    Purpose:\n",
    "        Function to calculate x \n",
    "    \"\"\"\n",
    "    if (y == 0): return 1\n",
    "    elif (int(y % 2) == 0): \n",
    "        return (power(x, int(y / 2)) * power(x, int(y / 2))) \n",
    "    else: \n",
    "        return (x * power(x, int(y / 2)) * power(x, int(y / 2))) "
   ]
  },
  {
   "cell_type": "code",
   "execution_count": 9,
   "metadata": {},
   "outputs": [],
   "source": [
    "def power(num, exponent):\n",
    "    \"\"\"\n",
    "    Input:\n",
    "        num: \n",
    "            real number\n",
    "        exponent:\n",
    "            Integer\n",
    "    \"\"\"\n",
    "    if exponent < 0:\n",
    "        num = 1 / num\n",
    "    exponent = int(abs(exponent))\n",
    "    res = num\n",
    "    for i in range(0, exponent-1):\n",
    "        res *= num\n",
    "        \n",
    "    return res"
   ]
  },
  {
   "cell_type": "code",
   "execution_count": 22,
   "metadata": {},
   "outputs": [
    {
     "data": {
      "text/plain": [
       "1"
      ]
     },
     "execution_count": 22,
     "metadata": {},
     "output_type": "execute_result"
    }
   ],
   "source": [
    "power(2,0.5)"
   ]
  },
  {
   "cell_type": "code",
   "execution_count": 4,
   "metadata": {},
   "outputs": [
    {
     "data": {
      "text/plain": [
       "1"
      ]
     },
     "execution_count": 4,
     "metadata": {},
     "output_type": "execute_result"
    }
   ],
   "source": [
    "abs(-1)"
   ]
  },
  {
   "cell_type": "code",
   "execution_count": null,
   "metadata": {},
   "outputs": [],
   "source": []
  }
 ],
 "metadata": {
  "kernelspec": {
   "display_name": "projectname",
   "language": "python",
   "name": "projectname"
  },
  "language_info": {
   "codemirror_mode": {
    "name": "ipython",
    "version": 3
   },
   "file_extension": ".py",
   "mimetype": "text/x-python",
   "name": "python",
   "nbconvert_exporter": "python",
   "pygments_lexer": "ipython3",
   "version": "3.7.0"
  }
 },
 "nbformat": 4,
 "nbformat_minor": 2
}
