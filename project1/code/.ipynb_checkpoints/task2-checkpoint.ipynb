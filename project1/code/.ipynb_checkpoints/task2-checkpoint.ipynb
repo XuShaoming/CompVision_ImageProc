{
 "cells": [
  {
   "cell_type": "code",
   "execution_count": 1,
   "metadata": {},
   "outputs": [],
   "source": [
    "import numpy as np\n",
    "import cv2\n",
    "import math\n",
    "from mycv import resize_shrink\n",
    "import mynumpy as mnp\n",
    "from task1 import eliminate_zero\n",
    "import heapq\n",
    "#from task1 import texture_filtering"
   ]
  },
  {
   "cell_type": "code",
   "execution_count": 2,
   "metadata": {},
   "outputs": [],
   "source": [
    "SIGMAS = np.array([[1/np.sqrt(2), 1, np.sqrt(2), 2, 2*np.sqrt(2)],\n",
    "                    [np.sqrt(2), 2, 2*np.sqrt(2), 4, 4*np.sqrt(2)],\n",
    "                    [2*np.sqrt(2), 4, 4*np.sqrt(2), 8, 8*np.sqrt(2)],\n",
    "                    [4*np.sqrt(2), 8, 8*np.sqrt(2), 16, 16*np.sqrt(2)]])"
   ]
  },
  {
   "cell_type": "code",
   "execution_count": 3,
   "metadata": {},
   "outputs": [],
   "source": [
    "def texture_filtering(img_gray, kernel):\n",
    "    \"\"\"\n",
    "    Notice:\n",
    "        This is a almost same funcion as in task1. In task1 I have rewrite this funcion \n",
    "        so that it not use any  illegal numpy funcion mentioned in PIAZZA.\n",
    "        However, in task2 if we use the task1 version texture_filtering, the program\n",
    "        will be very slow in img_bank_gen step.\n",
    "        So, here I use the version which use some basic numpy function. If you have any \n",
    "        concerns about here you can simply do these:\n",
    "            1. delete this funcion\n",
    "            2. uncomment #from task1 import texture_filtering\n",
    "        Or let me know. My email is shaoming@buffalo.edu\n",
    "        Thank you!\n",
    "    \n",
    "    Purpose:\n",
    "        use to filter the gray image given the kernel\n",
    "    Input:\n",
    "        img_gray: \n",
    "            an two dimension ndarray matrix, dtype:usually is uint8 representint the gray image.\n",
    "        kernel: \n",
    "            a two dimension ndarray matrix\n",
    "    Output:\n",
    "        The filtered image without padding around.\n",
    "    \"\"\"\n",
    "    row_pad = math.floor(kernel.shape[0] / 2)\n",
    "    col_pad = math.floor(kernel.shape[1] / 2)\n",
    "    img_gray = np.pad(img_gray, ((row_pad,row_pad),(col_pad, col_pad)), 'constant')\n",
    "    img_res = np.zeros(img_gray.shape)\n",
    "    flipped_kernel = np.flip(kernel)\n",
    "    for i in np.arange(row_pad, img_gray.shape[0] - row_pad):\n",
    "        for j in np.arange(col_pad, img_gray.shape[1] - col_pad):\n",
    "            img_res[i,j] = np.sum(img_gray[i-row_pad:i+row_pad+1, j-col_pad:j+col_pad+1] * flipped_kernel)\n",
    "    return img_res[row_pad: img_res.shape[0] - row_pad, col_pad:img_res.shape[1] - col_pad]"
   ]
  },
  {
   "cell_type": "code",
   "execution_count": 4,
   "metadata": {},
   "outputs": [],
   "source": [
    "def gaussin_val(x, y, sigma):\n",
    "    \"\"\"\n",
    "    Purpose:\n",
    "        Compute the gaussin val\n",
    "    x:\n",
    "        a real number \n",
    "    y:\n",
    "        a real number\n",
    "    sigma:\n",
    "        a real number \n",
    "    \"\"\"\n",
    "    a = 1 / (2 * np.pi * mnp.power(sigma,2))\n",
    "    b = np.exp(-(mnp.power(x,2) + mnp.power(y,2)) / (2 * mnp.power(sigma,2)))\n",
    "    return a * b"
   ]
  },
  {
   "cell_type": "code",
   "execution_count": 5,
   "metadata": {},
   "outputs": [],
   "source": [
    "def gaussin_kernel_gen(sigma, size=7):\n",
    "    \"\"\"\n",
    "    Purpose: \n",
    "        compute the gaussin kernel given the sigma and kernel size\n",
    "    Input:\n",
    "        sigma: \n",
    "            a real number\n",
    "        size: \n",
    "            int, the size of kernel\n",
    "    Output:\n",
    "        a gaussin kernel\n",
    "    \"\"\"\n",
    "    \n",
    "    if(size % 2 == 0):\n",
    "        raise Exception(\"kernel size should be odd number\")\n",
    "    mat = np.asarray(mnp.zeros(size,size))\n",
    "    pad = int(size/2)\n",
    "    dividend = 0\n",
    "    for i in range(size):\n",
    "        for j in range(size):\n",
    "            mat[i,j] = gaussin_val(j-pad, pad-i, sigma)\n",
    "            dividend += mat[i,j]\n",
    "    return mat / dividend"
   ]
  },
  {
   "cell_type": "code",
   "execution_count": 6,
   "metadata": {},
   "outputs": [],
   "source": [
    "def kernels_db_gen(sigmas = SIGMAS):\n",
    "    \"\"\"\n",
    "    Purpose:\n",
    "        Generate a series of gaussin kernles given a array of sigmas\n",
    "    Input:\n",
    "        sigmas:\n",
    "            a two dimension array which contains sigmas\n",
    "    Output:\n",
    "        a two dimension lists, each element is a kernel.\n",
    "    \"\"\"\n",
    "    kernels = []\n",
    "    for row in sigmas:\n",
    "        mats = []\n",
    "        for sigma in row:\n",
    "            mats.append(gaussin_kernel_gen(sigma, 7))\n",
    "        kernels.append(mats)\n",
    "    return kernels"
   ]
  },
  {
   "cell_type": "code",
   "execution_count": 7,
   "metadata": {},
   "outputs": [],
   "source": [
    "def resized_imgs_bank_gen(img_gray, layer):\n",
    "    resized_imgs_bank = []\n",
    "    for i in range(layer):\n",
    "        img_resized = np.asarray(resize_shrink(img_gray, mnp.power(1/2,i), mnp.power(1/2,i)))\n",
    "        resized_imgs_bank.append(img_resized)\n",
    "    return resized_imgs_bank"
   ]
  },
  {
   "cell_type": "code",
   "execution_count": 8,
   "metadata": {},
   "outputs": [],
   "source": [
    "def img_bank_gen(img_gray, kernels_db, resized_imgs_bank):\n",
    "    \"\"\"\n",
    "    Purpose:\n",
    "        Generate a series filtered image given the kernels database\n",
    "    Input:\n",
    "        img_gray: \n",
    "            a two dimension matrix representing the gray image, usually the dtype is uint8\n",
    "        kernels_db: \n",
    "            a two dimension list, each elements is a kernel.\n",
    "        resized_imgs_bank:\n",
    "            a list contains resized_imgs\n",
    "    Output:\n",
    "        the img_bank, a two dimension list, each elements is a filterd image.\n",
    "    \"\"\"\n",
    "    res = []\n",
    "    print(\"in img_bank_gen\")\n",
    "    for i, row in enumerate(kernels_db):\n",
    "        res_row = []\n",
    "        img_resized = resized_imgs_bank[i]\n",
    "        for kernel in row:\n",
    "            res_row.append(texture_filtering(img_resized, kernel))\n",
    "            print(\"fininsh a filterd img\")\n",
    "        print(\"row\",i,\"fininshed\")\n",
    "        res.append(res_row)\n",
    "    return res"
   ]
  },
  {
   "cell_type": "code",
   "execution_count": 9,
   "metadata": {},
   "outputs": [],
   "source": [
    "def dog_bank_gen(img_bank):\n",
    "    \"\"\"\n",
    "    Purpose:\n",
    "        Generate the Dog image for the images in img_bank\n",
    "    Input:\n",
    "        img_bank:\n",
    "            a two dimension list, each elemetns is a filterd image.\n",
    "    Output:\n",
    "        res: a dog_bank, a two dimension list, each elements is a Dog image\n",
    "    \"\"\"\n",
    "    \n",
    "    res = []\n",
    "    for row in img_bank:\n",
    "        res_row = []\n",
    "        for i in range(len(row[:-1])):\n",
    "            res_row.append(row[i+1] - row[i])\n",
    "        res.append(res_row)\n",
    "    return res        "
   ]
  },
  {
   "cell_type": "code",
   "execution_count": 10,
   "metadata": {},
   "outputs": [],
   "source": [
    "def check_min_max(upper_patch, patch, lower_patch):\n",
    "    \"\"\"\n",
    "    Purpose:\n",
    "        check if the middle pixel of patch is the maximum or the minimum pixel in the three patchs\n",
    "    Input:\n",
    "        Upper_patch:\n",
    "        patch:\n",
    "        lower_patch:\n",
    "            each patch is a 3 by 3 two dimension matrix.\n",
    "    Output: boolean\n",
    "    \"\"\"\n",
    "  \n",
    "    if ( (patch[1,1], 1) == mnp.min_all_count(patch) and patch[1,1] < mnp.min_all(upper_patch) \n",
    "            and patch[1,1] < mnp.min_all(lower_patch)\n",
    "        or (patch[1,1],1) == mnp.max_all_count(patch) and patch[1,1] > mnp.max_all(upper_patch) \n",
    "            and patch[1,1] > mnp.max_all(lower_patch)):\n",
    "        return True\n",
    "    else:\n",
    "        return False"
   ]
  },
  {
   "cell_type": "code",
   "execution_count": 11,
   "metadata": {},
   "outputs": [],
   "source": [
    "def key_points_gen(img_upper, img, img_lower):\n",
    "    \"\"\"\n",
    "    Purpose:\n",
    "        Generate keypoints image\n",
    "    Input:\n",
    "        img_upper:\n",
    "        img:\n",
    "        img_lower:\n",
    "           three gray images\n",
    "    Output:\n",
    "        res:\n",
    "            a keypoints image in where the white pixels(255) are keypoints. \n",
    "    \"\"\"\n",
    "    \n",
    "    res = []\n",
    "    img_upper = np.ndarray.tolist(img_upper)\n",
    "    img_upper = np.asarray(mnp.pad(img_upper,1,1,1,1))\n",
    "    img = np.ndarray.tolist(img)\n",
    "    img = np.asarray(mnp.pad(img,1,1,1,1))\n",
    "    img_lower = np.ndarray.tolist(img_lower)\n",
    "    img_lower = np.asarray(mnp.pad(img_lower,1,1,1,1))\n",
    "    \n",
    "    for i in range(1, img.shape[0] - 1):\n",
    "        for j in range(1, img.shape[1] - 1):\n",
    "            upper_patch = img_upper[i-1:i+2, j-1:j+2]\n",
    "            patch = img[i-1:i+2, j-1:j+2]\n",
    "            lower_patch = img_lower[i-1:i+2, j-1:j+2]\n",
    "            if check_min_max(upper_patch, patch, lower_patch):\n",
    "                res.append((i-1,j-1))\n",
    "    return res"
   ]
  },
  {
   "cell_type": "code",
   "execution_count": 12,
   "metadata": {},
   "outputs": [],
   "source": [
    "def key_points_bank_gen(dog_bank):\n",
    "    \"\"\"\n",
    "    Purpose:\n",
    "        Generate the keypoints imgs bank by the dog_bank\n",
    "    input:\n",
    "        dog_bank:\n",
    "            a two dimension list, each elements is a Dog image\n",
    "    Output:\n",
    "        key_points_imgs_bank:\n",
    "            a two dimensions list, each element in the list is a keypoints image.\n",
    "    \"\"\"\n",
    "    key_points_bank = []\n",
    "    for i in range(len(dog_bank)):\n",
    "        print(\"start new row\")\n",
    "        key_points_bank_row = []\n",
    "        for j in range(1, len(dog_bank[i]) - 1):\n",
    "            img_lower = dog_bank[i][j-1]\n",
    "            img = dog_bank[i][j]\n",
    "            img_upper = dog_bank[i][j+1]\n",
    "            key_points_bank_row.append(key_points_gen(img_upper, img, img_lower))\n",
    "            print(\"finish a key_points_list\")\n",
    "        key_points_bank.append(key_points_bank_row)\n",
    "    return key_points_bank"
   ]
  },
  {
   "cell_type": "code",
   "execution_count": 13,
   "metadata": {},
   "outputs": [],
   "source": [
    "def save_resized_imgs(resized_imgs_bank, show_img = False):\n",
    "    \"\"\"\n",
    "    Input:\n",
    "        resized_imgs_bank: \n",
    "            A list contains resized images\n",
    "    Output:\n",
    "        None\n",
    "    \"\"\"\n",
    "    loc = \"../task2_img\" +\"/resized_imgs/\"\n",
    "    for i in range(len(resized_imgs_bank)):\n",
    "        name = \"octave_\" + str(i+1) + \"_img\" + \".jpg\"\n",
    "        cv2.imwrite(loc + name, resized_imgs_bank[i])\n",
    "        if show_img:\n",
    "            cv2.namedWindow(name, cv2.WINDOW_NORMAL)\n",
    "            cv2.imshow(name, resized_imgs_bank[i])\n",
    "            cv2.waitKey(0)\n",
    "            cv2.destroyAllWindows()"
   ]
  },
  {
   "cell_type": "code",
   "execution_count": 14,
   "metadata": {},
   "outputs": [],
   "source": [
    "def save_blured_imgs(img_bank, show_img = False):\n",
    "    \"\"\"\n",
    "    Input:\n",
    "        img_bank: \n",
    "            A two dimension list contains gaussin blured images\n",
    "    Output:\n",
    "        None\n",
    "    \"\"\"\n",
    "    loc = \"../task2_img\" + \"/blur_imgs/\"\n",
    "    for i in range(len(img_bank)):\n",
    "        for j in range(len(img_bank[i])):\n",
    "            name =  \"octave_\" + str(i+1) +\"_blur_\" + str(j+1) + \"_img\" + \".jpg\"\n",
    "            cv2.imwrite(loc + name, img_bank[i][j])\n",
    "            if show_img:\n",
    "                cv2.namedWindow(name, cv2.WINDOW_NORMAL)\n",
    "                cv2.imshow(name, img_bank[i][j].astype(np.uint8))\n",
    "                cv2.waitKey(0)\n",
    "                cv2.destroyAllWindows()"
   ]
  },
  {
   "cell_type": "code",
   "execution_count": 15,
   "metadata": {},
   "outputs": [],
   "source": [
    "def save_dog_imgs(dog_bank, show_img = False):\n",
    "    \"\"\"\n",
    "    Input:\n",
    "        img_bank: \n",
    "            A two dimension list contains gaussin blured images\n",
    "    Output:\n",
    "        None\n",
    "    \"\"\"\n",
    "    loc = \"../task2_img\" + \"/dog_imgs/\"\n",
    "    for i in range(len(dog_bank)):\n",
    "        for j in range(len(dog_bank[i])):\n",
    "            name = \"octave_\" + str(i+1) +\"_dog_\" + str(j+1) + \".jpg\"\n",
    "            norm_dog_img = eliminate_zero(dog_bank[i][j])\n",
    "            cv2.imwrite(loc + name,  norm_dog_img * 255)\n",
    "            if show_img:\n",
    "                cv2.namedWindow(loc + name, cv2.WINDOW_NORMAL)\n",
    "                cv2.imshow(name, norm_dog_img)\n",
    "                cv2.waitKey(0)\n",
    "                cv2.destroyAllWindows()"
   ]
  },
  {
   "cell_type": "code",
   "execution_count": 27,
   "metadata": {},
   "outputs": [],
   "source": [
    "def save_combined_key_points_imgs(key_points_bank, resized_imgs_bank, show_img = False):\n",
    "    \"\"\"\n",
    "    Input:\n",
    "        key_points_bank: \n",
    "            A two dimension list contains all key points indexs\n",
    "        resized_imgs_bank:\n",
    "            A one dimension list contain resized images\n",
    "    Output:\n",
    "        None\n",
    "    \"\"\"\n",
    "    loc = \"../task2_img\" + \"/combined_keypoints_imgs/\"\n",
    "    for i in range(len(key_points_bank)):\n",
    "        resized_img = resized_imgs_bank[i]\n",
    "        img_black = np.asarray(mnp.zeros(resized_img.shape[0], resized_img.shape[1]))\n",
    "        set_pts = set()\n",
    "        for j in range(len(key_points_bank[i])):\n",
    "            set_pts = set_pts.union(set(key_points_bank[i][j]))\n",
    "        name = \"octave_\" + str(i+1) +\"_keypoints_img\"\n",
    "        img_clone = np.copy(resized_img)\n",
    "        img_black_clone = np.copy(img_black)\n",
    "        img_clone[[i for i in zip(*set_pts)]] = 255\n",
    "        img_black_clone[[i for i in zip(*set_pts)]] = 255\n",
    "        cv2.imwrite(loc + name + \".jpg\", img_clone)\n",
    "        cv2.imwrite(loc + name + \"_black.jpg\", img_black_clone)\n",
    "        if show_img:\n",
    "            cv2.namedWindow(name, cv2.WINDOW_NORMAL)\n",
    "            cv2.imshow(name, img_clone)\n",
    "            cv2.waitKey(0)\n",
    "            cv2.destroyAllWindows()"
   ]
  },
  {
   "cell_type": "code",
   "execution_count": 86,
   "metadata": {},
   "outputs": [],
   "source": [
    "def merge_key_points_bank(key_points_bank):\n",
    "    res = set()\n",
    "    for i in range(len(key_points_bank)):\n",
    "        for val in key_points_bank[i]:\n",
    "            res = res.union(set([(a * mnp.power(2,i), b * mnp.power(2,i)) for (a,b) in val]))\n",
    "    return res"
   ]
  },
  {
   "cell_type": "code",
   "execution_count": 17,
   "metadata": {},
   "outputs": [
    {
     "name": "stdout",
     "output_type": "stream",
     "text": [
      "(1, 4, 3)\n",
      "(2, 5, 4)\n"
     ]
    }
   ],
   "source": [
    "listone = [(1,2),(3,4)]\n",
    "listtwo = [(4,5),(3,4)]\n",
    "listone + listtwo\n",
    "t1 = set(listone).union(set(listtwo))\n",
    "for val in zip(*t1):\n",
    "    print(val)"
   ]
  },
  {
   "cell_type": "markdown",
   "metadata": {},
   "source": [
    "### Test"
   ]
  },
  {
   "cell_type": "code",
   "execution_count": 19,
   "metadata": {
    "collapsed": true
   },
   "outputs": [
    {
     "name": "stdout",
     "output_type": "stream",
     "text": [
      "in img_bank_gen\n",
      "fininsh a filterd img\n",
      "fininsh a filterd img\n",
      "fininsh a filterd img\n",
      "fininsh a filterd img\n",
      "fininsh a filterd img\n",
      "row 0 fininshed\n",
      "fininsh a filterd img\n",
      "fininsh a filterd img\n",
      "fininsh a filterd img\n",
      "fininsh a filterd img\n",
      "fininsh a filterd img\n",
      "row 1 fininshed\n",
      "fininsh a filterd img\n",
      "fininsh a filterd img\n",
      "fininsh a filterd img\n",
      "fininsh a filterd img\n",
      "fininsh a filterd img\n",
      "row 2 fininshed\n",
      "fininsh a filterd img\n",
      "fininsh a filterd img\n",
      "fininsh a filterd img\n",
      "fininsh a filterd img\n",
      "fininsh a filterd img\n",
      "row 3 fininshed\n",
      "start new row\n",
      "finish a key_points_list\n",
      "finish a key_points_list\n",
      "start new row\n",
      "finish a key_points_list\n",
      "finish a key_points_list\n",
      "start new row\n",
      "finish a key_points_list\n",
      "finish a key_points_list\n",
      "start new row\n",
      "finish a key_points_list\n",
      "finish a key_points_list\n"
     ]
    }
   ],
   "source": [
    "img = cv2.imread(\"../task2_img/task2.jpg\", 0)\n",
    "kernels_db = kernels_db_gen()\n",
    "resized_imgs_bank = resized_imgs_bank_gen(img, len(kernels_db))\n",
    "img_bank = img_bank_gen(img, kernels_db, resized_imgs_bank)\n",
    "dog_bank = dog_bank_gen(img_bank)\n",
    "key_points_bank = key_points_bank_gen(dog_bank)"
   ]
  },
  {
   "cell_type": "code",
   "execution_count": 18,
   "metadata": {},
   "outputs": [],
   "source": [
    "save_resized_imgs(resized_imgs_bank, True)"
   ]
  },
  {
   "cell_type": "code",
   "execution_count": 19,
   "metadata": {
    "scrolled": true
   },
   "outputs": [],
   "source": [
    "save_blured_imgs(img_bank, True)"
   ]
  },
  {
   "cell_type": "code",
   "execution_count": 20,
   "metadata": {},
   "outputs": [],
   "source": [
    "save_dog_imgs(dog_bank, True)"
   ]
  },
  {
   "cell_type": "code",
   "execution_count": 28,
   "metadata": {
    "scrolled": false
   },
   "outputs": [
    {
     "name": "stderr",
     "output_type": "stream",
     "text": [
      "/Users/xu/Desktop/UB-COURSE/573ComputerVision/myOpencv/tutorial-env/lib/python3.7/site-packages/ipykernel_launcher.py:21: FutureWarning: Using a non-tuple sequence for multidimensional indexing is deprecated; use `arr[tuple(seq)]` instead of `arr[seq]`. In the future this will be interpreted as an array index, `arr[np.array(seq)]`, which will result either in an error or a different result.\n",
      "/Users/xu/Desktop/UB-COURSE/573ComputerVision/myOpencv/tutorial-env/lib/python3.7/site-packages/ipykernel_launcher.py:22: FutureWarning: Using a non-tuple sequence for multidimensional indexing is deprecated; use `arr[tuple(seq)]` instead of `arr[seq]`. In the future this will be interpreted as an array index, `arr[np.array(seq)]`, which will result either in an error or a different result.\n"
     ]
    }
   ],
   "source": [
    "save_combined_key_points_imgs(key_points_bank, resized_imgs_bank, True)"
   ]
  },
  {
   "cell_type": "code",
   "execution_count": 174,
   "metadata": {},
   "outputs": [
    {
     "data": {
      "text/plain": [
       "[(114, 0), (272, 0), (310, 0), (327, 0), (348, 0)]"
      ]
     },
     "execution_count": 174,
     "metadata": {},
     "output_type": "execute_result"
    }
   ],
   "source": [
    "t1 = merge_key_points_bank(key_points_bank)\n",
    "t2 = [(b,a) for (a,b) in t1]\n",
    "[(b,a) for (a,b) in heapq.nsmallest(5,t2)]"
   ]
  },
  {
   "cell_type": "code",
   "execution_count": 172,
   "metadata": {},
   "outputs": [
    {
     "data": {
      "text/plain": [
       "[(114, 0), (272, 0), (310, 0), (327, 0), (348, 0)]"
      ]
     },
     "execution_count": 172,
     "metadata": {},
     "output_type": "execute_result"
    }
   ],
   "source": []
  },
  {
   "cell_type": "code",
   "execution_count": 171,
   "metadata": {},
   "outputs": [],
   "source": [
    "t2 = list(t1)\n",
    "t2 = [(b,a) for (a,b) in t2]"
   ]
  },
  {
   "cell_type": "code",
   "execution_count": 87,
   "metadata": {},
   "outputs": [
    {
     "name": "stderr",
     "output_type": "stream",
     "text": [
      "/Users/xu/Desktop/UB-COURSE/573ComputerVision/myOpencv/tutorial-env/lib/python3.7/site-packages/ipykernel_launcher.py:3: FutureWarning: Using a non-tuple sequence for multidimensional indexing is deprecated; use `arr[tuple(seq)]` instead of `arr[seq]`. In the future this will be interpreted as an array index, `arr[np.array(seq)]`, which will result either in an error or a different result.\n",
      "  This is separate from the ipykernel package so we can avoid doing imports until\n"
     ]
    }
   ],
   "source": [
    "t1 = merge_key_points_bank(key_points_bank)\n",
    "img_test = cv2.imread(\"../task2_img/task2.jpg\", 0)\n",
    "img_test[[i for i in zip(*t1)]] = 255\n",
    "cv2.namedWindow(\"name\", cv2.WINDOW_NORMAL)\n",
    "cv2.imshow(\"name\", img_test)\n",
    "cv2.waitKey(0)\n",
    "cv2.destroyAllWindows()"
   ]
  },
  {
   "cell_type": "code",
   "execution_count": 51,
   "metadata": {},
   "outputs": [
    {
     "data": {
      "text/plain": [
       "1.4142135623730951"
      ]
     },
     "execution_count": 51,
     "metadata": {},
     "output_type": "execute_result"
    }
   ],
   "source": [
    "np.power(2,1/2)"
   ]
  },
  {
   "cell_type": "markdown",
   "metadata": {},
   "source": [
    "## Depreciated funcion"
   ]
  },
  {
   "cell_type": "code",
   "execution_count": 19,
   "metadata": {},
   "outputs": [],
   "source": [
    "def check_min_max(upper_patch, patch, lower_patch):\n",
    "    \"\"\"\n",
    "    Purpose:\n",
    "        check if the middle pixel of patch is the maximum or the minimum pixel in the three patchs\n",
    "    Input:\n",
    "        Upper_patch:\n",
    "        patch:\n",
    "        lower_patch:\n",
    "            each patch is a 3 by 3 two dimension matrix.\n",
    "    Output: boolean\n",
    "    \n",
    "    \"\"\"    \n",
    "    check = patch[1,1]\n",
    "    is_max = False\n",
    "    is_min = False\n",
    "    for i in range(len(patch)):\n",
    "        for j in range(len(patch[i])):\n",
    "            if i == 1 and j == 1:\n",
    "                continue\n",
    "            if patch[i,j] == check:\n",
    "                return False\n",
    "            elif check < patch[i,j]:\n",
    "                is_min = True\n",
    "            else:\n",
    "                is_max = True\n",
    "            if(is_min and is_max):\n",
    "                return False\n",
    "    \n",
    "    if is_max and patch[1,1] > mnp.max_all(upper_patch) and patch[1,1] > mnp.max_all(lower_patch):\n",
    "        return True\n",
    "    if is_min is True and patch[1,1] <  mnp.min_all(upper_patch) and patch[1,1] < mnp.min_all(lower_patch):\n",
    "        return True\n",
    "    \n",
    "    return False"
   ]
  },
  {
   "cell_type": "code",
   "execution_count": 16,
   "metadata": {},
   "outputs": [],
   "source": [
    "def save_key_points_imgs(key_points_bank, resized_imgs_bank, show_img = False):\n",
    "    \"\"\"\n",
    "    Input:\n",
    "        key_points_bank: \n",
    "            A two dimension list contains all key points indexs\n",
    "        resized_imgs_bank:\n",
    "            A one dimension list contain resized images\n",
    "    Output:\n",
    "        None\n",
    "    \"\"\"\n",
    "    loc = \"../task2_img\" + \"/keypoints_imgs/\"\n",
    "    for i in range(len(key_points_bank)):\n",
    "        resized_img = resized_imgs_bank[i]\n",
    "        img_black = np.asarray(mnp.zeros(resized_img.shape[0], resized_img.shape[1]))\n",
    "        for j in range(len(key_points_bank[i])):\n",
    "            name = \"octave_\" + str(i+1) +\"_keypoints_\" + str(j+1)\n",
    "            img_clone = np.copy(resized_img)\n",
    "            img_black_clone = np.copy(img_black)\n",
    "            img_clone[[i for i in zip(*key_points_bank[i][j])]] = 255\n",
    "            img_black_clone[[i for i in zip(*key_points_bank[i][j])]] = 255\n",
    "            cv2.imwrite(loc + name + \".jpg\", img_clone)\n",
    "            cv2.imwrite(loc + name + \"_black.jpg\", img_black_clone)\n",
    "            if show_img:\n",
    "                cv2.namedWindow(name, cv2.WINDOW_NORMAL)\n",
    "                cv2.imshow(name, img_clone)\n",
    "                cv2.waitKey(0)\n",
    "                cv2.destroyAllWindows()"
   ]
  },
  {
   "cell_type": "code",
   "execution_count": 22,
   "metadata": {
    "scrolled": false
   },
   "outputs": [
    {
     "name": "stderr",
     "output_type": "stream",
     "text": [
      "/Users/xu/Desktop/UB-COURSE/573ComputerVision/myOpencv/tutorial-env/lib/python3.7/site-packages/ipykernel_launcher.py:19: FutureWarning: Using a non-tuple sequence for multidimensional indexing is deprecated; use `arr[tuple(seq)]` instead of `arr[seq]`. In the future this will be interpreted as an array index, `arr[np.array(seq)]`, which will result either in an error or a different result.\n",
      "/Users/xu/Desktop/UB-COURSE/573ComputerVision/myOpencv/tutorial-env/lib/python3.7/site-packages/ipykernel_launcher.py:20: FutureWarning: Using a non-tuple sequence for multidimensional indexing is deprecated; use `arr[tuple(seq)]` instead of `arr[seq]`. In the future this will be interpreted as an array index, `arr[np.array(seq)]`, which will result either in an error or a different result.\n"
     ]
    }
   ],
   "source": [
    "save_key_points_imgs(key_points_bank, resized_imgs_bank, True)"
   ]
  }
 ],
 "metadata": {
  "kernelspec": {
   "display_name": "projectname",
   "language": "python",
   "name": "projectname"
  },
  "language_info": {
   "codemirror_mode": {
    "name": "ipython",
    "version": 3
   },
   "file_extension": ".py",
   "mimetype": "text/x-python",
   "name": "python",
   "nbconvert_exporter": "python",
   "pygments_lexer": "ipython3",
   "version": "3.7.0"
  }
 },
 "nbformat": 4,
 "nbformat_minor": 2
}
