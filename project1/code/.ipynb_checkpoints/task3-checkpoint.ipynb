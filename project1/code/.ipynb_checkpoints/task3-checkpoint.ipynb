{
 "cells": [
  {
   "cell_type": "code",
   "execution_count": 2,
   "metadata": {},
   "outputs": [],
   "source": [
    "import cv2\n",
    "import numpy as np\n",
    "import math\n",
    "import os\n",
    "import re"
   ]
  },
  {
   "cell_type": "code",
   "execution_count": 3,
   "metadata": {},
   "outputs": [],
   "source": [
    "np.set_printoptions(threshold=np.inf)\n",
    "np.set_printoptions(threshold=1000)"
   ]
  },
  {
   "cell_type": "code",
   "execution_count": 4,
   "metadata": {},
   "outputs": [],
   "source": [
    "METHODS = ['cv2.TM_CCOEFF', 'cv2.TM_CCOEFF_NORMED', 'cv2.TM_CCORR',\n",
    "           'cv2.TM_CCORR_NORMED', 'cv2.TM_SQDIFF', 'cv2.TM_SQDIFF_NORMED']"
   ]
  },
  {
   "cell_type": "code",
   "execution_count": 5,
   "metadata": {},
   "outputs": [],
   "source": [
    "def preproces_laplacian(img):\n",
    "    blur_img = cv2.GaussianBlur(img,(3,3),0)\n",
    "    return cv2.Laplacian(blur_img,cv2.CV_8U)"
   ]
  },
  {
   "cell_type": "code",
   "execution_count": 6,
   "metadata": {},
   "outputs": [],
   "source": [
    "def template_match(meth = 'cv2.TM_CCORR_NORMED', has_mask = False):\n",
    "    \"\"\"\n",
    "    Input:\n",
    "        meth: String\n",
    "            The names of template matching method\n",
    "        has_mask: boolean\n",
    "            True: use mask on template. Only support TM_CCORR_NORMED and TM_SQDIFF\n",
    "            False: not use\n",
    "    \"\"\"\n",
    "    loc = \"../task3_img/\"\n",
    "    m = re.search(r'cv2.(\\w+)', meth)\n",
    "    save_loc = loc + m.group(1)\n",
    "    \n",
    "    template = cv2.imread(loc +'template_1.jpeg',0)\n",
    "    mask_ = None\n",
    "    if has_mask:\n",
    "        mask_ = np.ones(template.shape,dtype=np.uint8)\n",
    "        mask_[template < 80] = 0\n",
    "        save_loc = save_loc + \"/mask\"\n",
    "    \n",
    "    method = eval(meth)\n",
    "    #preproces_laplacian\n",
    "    template = preproces_laplacian(template)\n",
    "    \n",
    "    try:\n",
    "        os.makedirs(save_loc)\n",
    "    except FileExistsError:\n",
    "        print(\"use existing folder:\", save_loc)\n",
    "    \n",
    "    for i in range(1,16):\n",
    "        name = \"pos_\" + str(i) + \".jpg\"\n",
    "        img = cv2.imread(loc + name)\n",
    "        img_gray = cv2.imread(loc + name, 0)\n",
    "        img_gray = preproces_laplacian(img_gray)\n",
    "        h, w = template.shape\n",
    "\n",
    "        # Apply template Matching\n",
    "        res = cv2.matchTemplate(img_gray,template,method, mask = mask_)\n",
    "        min_val, max_val, min_loc, max_loc = cv2.minMaxLoc(res)\n",
    "        \n",
    "        # If the method is TM_SQDIFF or TM_SQDIFF_NORMED, take minimum\n",
    "        if method in [cv2.TM_SQDIFF, cv2.TM_SQDIFF_NORMED]:\n",
    "            top_left = min_loc\n",
    "        else:\n",
    "            top_left = max_loc\n",
    "        \n",
    "        bottom_right = (top_left[0] + w, top_left[1] + h)\n",
    "        cv2.rectangle(img,top_left, bottom_right, (0,0,255), 2)\n",
    "        cv2.imwrite(save_loc + \"/\" + \"pos_\" + str(i) + \"_res\" + \".jpg\", img)"
   ]
  },
  {
   "cell_type": "code",
   "execution_count": 30,
   "metadata": {},
   "outputs": [],
   "source": [
    "template_match(\"../task3_img/\",'template_1.jpeg',\"pos_\", 15,'cv2.TM_CCORR_NORMED', False)"
   ]
  },
  {
   "cell_type": "code",
   "execution_count": 31,
   "metadata": {},
   "outputs": [],
   "source": [
    "template_match(\"../task3_img/\",'template_1.jpeg',\"pos_\", 15, 'cv2.TM_CCOEFF_NORMED', False)"
   ]
  },
  {
   "cell_type": "code",
   "execution_count": 32,
   "metadata": {},
   "outputs": [],
   "source": [
    "template_match(\"../task3_img/\",'template_1.jpeg',\"pos_\", 15, 'cv2.TM_SQDIFF_NORMED', False)"
   ]
  },
  {
   "cell_type": "code",
   "execution_count": 22,
   "metadata": {},
   "outputs": [],
   "source": [
    "def template_match(loc=\"../task3_bonus/\", temp_name=\"template_1.jpg\", img_prefix=\"t1_\",num=6,meth = 'cv2.TM_CCORR_NORMED', has_mask = False):\n",
    "    \"\"\"\n",
    "    Input:\n",
    "        meth: String\n",
    "            The names of template matching method\n",
    "        has_mask: boolean\n",
    "            True: use mask on template. Only support TM_CCORR_NORMED and TM_SQDIFF\n",
    "            False: not use\n",
    "    \"\"\"\n",
    "    m = re.search(r'cv2.(\\w+)', meth)\n",
    "    save_loc = loc + m.group(1)\n",
    "    \n",
    "    template = cv2.imread(loc + temp_name,0)\n",
    "    mask_ = None\n",
    "    if has_mask:\n",
    "        mask_ = np.ones(template.shape,dtype=np.uint8)\n",
    "        mask_[template < 80] = 0\n",
    "        save_loc = save_loc + \"/mask\"\n",
    "    \n",
    "    method = eval(meth)\n",
    "    #preproces_laplacian\n",
    "    template = preproces_laplacian(template)\n",
    "    \n",
    "    try:\n",
    "        os.makedirs(save_loc)\n",
    "    except FileExistsError:\n",
    "        print(\"use existing folder:\", save_loc)\n",
    "    \n",
    "    for i in range(1,num+1):\n",
    "        name = img_prefix + str(i) + \".jpg\"\n",
    "        img = cv2.imread(loc + name)\n",
    "        img_gray = cv2.imread(loc + name, 0)\n",
    "        img_gray = preproces_laplacian(img_gray)\n",
    "        h, w = template.shape\n",
    "\n",
    "        # Apply template Matching\n",
    "        res = cv2.matchTemplate(img_gray,template,method, mask = mask_)\n",
    "        min_val, max_val, min_loc, max_loc = cv2.minMaxLoc(res)\n",
    "        \n",
    "        # If the method is TM_SQDIFF or TM_SQDIFF_NORMED, take minimum\n",
    "        if method in [cv2.TM_SQDIFF, cv2.TM_SQDIFF_NORMED]:\n",
    "            top_left = min_loc\n",
    "        else:\n",
    "            top_left = max_loc\n",
    "        \n",
    "        bottom_right = (top_left[0] + w, top_left[1] + h)\n",
    "        cv2.rectangle(img,top_left, bottom_right, (0,0,255), 2)\n",
    "        cv2.imwrite(save_loc + \"/\" + img_prefix + str(i) + \"_res\" + \".jpg\", img)"
   ]
  },
  {
   "cell_type": "code",
   "execution_count": 24,
   "metadata": {},
   "outputs": [
    {
     "name": "stdout",
     "output_type": "stream",
     "text": [
      "use existing folder: ../task3_bonus/TM_CCORR_NORMED\n"
     ]
    }
   ],
   "source": [
    "template_match(\"../task3_bonus/\", \"template_1.jpg\", \"t1_\", 6)"
   ]
  },
  {
   "cell_type": "code",
   "execution_count": 25,
   "metadata": {},
   "outputs": [
    {
     "name": "stdout",
     "output_type": "stream",
     "text": [
      "use existing folder: ../task3_bonus/TM_CCORR_NORMED\n"
     ]
    }
   ],
   "source": [
    "template_match(\"../task3_bonus/\", \"template_2.jpg\", \"t2_\", 6)"
   ]
  },
  {
   "cell_type": "code",
   "execution_count": 26,
   "metadata": {},
   "outputs": [
    {
     "name": "stdout",
     "output_type": "stream",
     "text": [
      "use existing folder: ../task3_bonus/TM_CCORR_NORMED\n"
     ]
    }
   ],
   "source": [
    "template_match(\"../task3_bonus/\", \"template_3.jpg\", \"t3_\", 6)"
   ]
  },
  {
   "cell_type": "markdown",
   "metadata": {},
   "source": [
    "## Depreciated funcion"
   ]
  },
  {
   "cell_type": "code",
   "execution_count": null,
   "metadata": {},
   "outputs": [],
   "source": []
  },
  {
   "cell_type": "code",
   "execution_count": 38,
   "metadata": {},
   "outputs": [],
   "source": [
    "def preprocess_template(template):\n",
    "    \n",
    "    ## elimate the not useful information\n",
    "    index_top = 0\n",
    "    index_bottom = template.shape[0] - 1\n",
    "    index_left = 0\n",
    "    index_right = template.shape[1] - 1\n",
    "    for row in template:\n",
    "        if max(row) > 100:\n",
    "            break\n",
    "        index_top += 1\n",
    "    \n",
    "    for row in reversed(template):\n",
    "        if max(row) > 100:\n",
    "            break\n",
    "        index_bottom -= 1\n",
    "        \n",
    "    for col in template.T:\n",
    "        if max(col) > 100:\n",
    "            break\n",
    "        index_left += 1\n",
    "        \n",
    "    for col in reversed(template.T):\n",
    "        if max(col) > 100:\n",
    "            break\n",
    "        index_right -= 1\n",
    "    \n",
    "    res = template[index_top : index_bottom + 1, index_left : index_right + 1]\n",
    "        \n",
    "    return res"
   ]
  },
  {
   "cell_type": "code",
   "execution_count": 47,
   "metadata": {},
   "outputs": [],
   "source": [
    "def ssd(img, template):\n",
    "    res = np.zeros(img.shape, dtype=\"uint64\")\n",
    "    row_pad = math.floor(template.shape[0] / 2)\n",
    "    col_pad = math.floor(template.shape[1] / 2)\n",
    "    count = 1\n",
    "    for i in np.arange(row_pad, img.shape[0] - row_pad, 4):\n",
    "        for j in np.arange(col_pad, img.shape[1] - col_pad,2):\n",
    "            #patch  = img[i-row_pad:i+row_pad+1, j-col_pad:j+col_pad+1]\n",
    "            val = 0\n",
    "            for k in np.arange(template.shape[0]):\n",
    "                for z in np.arange(template.shape[1]):                    \n",
    "                    if template[k,z] != 255:\n",
    "                        val += np.abs(img[i-row_pad+k, j-col_pad+z] - template[k,z])\n",
    "            count += 1\n",
    "            print(count)\n",
    "            res[i,j] = val\n",
    "            \n",
    "    return res"
   ]
  }
 ],
 "metadata": {
  "kernelspec": {
   "display_name": "projectname",
   "language": "python",
   "name": "projectname"
  },
  "language_info": {
   "codemirror_mode": {
    "name": "ipython",
    "version": 3
   },
   "file_extension": ".py",
   "mimetype": "text/x-python",
   "name": "python",
   "nbconvert_exporter": "python",
   "pygments_lexer": "ipython3",
   "version": "3.7.0"
  }
 },
 "nbformat": 4,
 "nbformat_minor": 2
}
