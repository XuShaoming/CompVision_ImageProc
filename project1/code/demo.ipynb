{
 "cells": [
  {
   "cell_type": "code",
   "execution_count": 2,
   "metadata": {},
   "outputs": [],
   "source": [
    "import cv2\n",
    "import numpy as np"
   ]
  },
  {
   "cell_type": "code",
   "execution_count": 3,
   "metadata": {},
   "outputs": [
    {
     "name": "stdout",
     "output_type": "stream",
     "text": [
      "Original image size:  600 x  900\n",
      "Resulting image size:  600 x  900\n"
     ]
    }
   ],
   "source": [
    "img = cv2.imread(\"../task1_img/task1.png\", 0)\n",
    "cv2.namedWindow('image', cv2.WINDOW_NORMAL)\n",
    "cv2.imshow('image', img)\n",
    "cv2.waitKey(0)\n",
    "cv2.destroyAllWindows()\n",
    "# cv2.imwrite()\n",
    "\n",
    "# Computing vertical edges\n",
    "edge_x = cv2.Sobel(img, cv2.CV_32F, 1, 0, ksize=3)\n",
    "cv2.namedWindow('edge_x_dir', cv2.WINDOW_NORMAL)\n",
    "cv2.imshow('edge_x_dir', edge_x)\n",
    "cv2.waitKey(0)\n",
    "cv2.destroyAllWindows()\n",
    "\n",
    "# Eliminate zero values with method 1\n",
    "pos_edge_x = (edge_x - np.min(edge_x)) / (np.max(edge_x) - np.min(edge_x))\n",
    "cv2.namedWindow('pos_edge_x_dir', cv2.WINDOW_NORMAL)\n",
    "cv2.imshow('pos_edge_x_dir', pos_edge_x)\n",
    "cv2.waitKey(0)\n",
    "cv2.destroyAllWindows()\n",
    "\n",
    "# Eliminate zero values with method 2\n",
    "pos_edge_x = np.abs(edge_x) / np.max(np.abs(edge_x))\n",
    "cv2.namedWindow('pos_edge_x_dir', cv2.WINDOW_NORMAL)\n",
    "cv2.imshow('pos_edge_x_dir', pos_edge_x)\n",
    "cv2.waitKey(0)\n",
    "cv2.destroyAllWindows()\n",
    "\n",
    "# Computing horizontal edges\n",
    "edge_y = cv2.Sobel(img, cv2.CV_32F, 0, 1, ksize=3)\n",
    "cv2.namedWindow('edge_y_dir', cv2.WINDOW_NORMAL)\n",
    "cv2.imshow('edge_y_dir', edge_y)\n",
    "cv2.waitKey(0)\n",
    "cv2.destroyAllWindows()\n",
    "\n",
    "# Eliminate zero values with method 1\n",
    "pos_edge_y = (edge_y - np.min(edge_y)) / (np.max(edge_y) - np.min(edge_y))\n",
    "cv2.namedWindow('pos_edge_y_dir', cv2.WINDOW_NORMAL)\n",
    "cv2.imshow('pos_edge_y_dir', pos_edge_y)\n",
    "cv2.waitKey(0)\n",
    "cv2.destroyAllWindows()\n",
    "\n",
    "# Eliminate zero values with method 2\n",
    "pos_edge_y = np.abs(edge_y) / np.max(np.abs(edge_y))\n",
    "cv2.namedWindow('pos_edge_y_dir', cv2.WINDOW_NORMAL)\n",
    "cv2.imshow('pos_edge_y_dir', pos_edge_y)\n",
    "cv2.waitKey(0)\n",
    "cv2.destroyAllWindows()\n",
    "\n",
    "# magnitude of edges (conbining horizontal and vertical edges)\n",
    "edge_magnitude = np.sqrt(edge_x ** 2 + edge_y ** 2)\n",
    "edge_magnitude /= np.max(edge_magnitude)\n",
    "cv2.namedWindow('edge_magnitude', cv2.WINDOW_NORMAL)\n",
    "cv2.imshow('edge_magnitude', edge_magnitude)\n",
    "cv2.waitKey(0)\n",
    "cv2.destroyAllWindows()\n",
    "\n",
    "edge_direction = np.arctan(edge_y / (edge_x + 1e-3))\n",
    "edge_direction = edge_direction * 180. / np.pi\n",
    "edge_direction /= np.max(edge_direction)\n",
    "cv2.namedWindow('edge_direction', cv2.WINDOW_NORMAL)\n",
    "cv2.imshow('edge_direction', edge_direction)\n",
    "cv2.waitKey(0)\n",
    "cv2.destroyAllWindows()\n",
    "\n",
    "print(\"Original image size: {:4d} x {:4d}\".format(img.shape[0], img.shape[1]))\n",
    "print(\"Resulting image size: {:4d} x {:4d}\".format(edge_magnitude.shape[0], edge_magnitude.shape[1]))"
   ]
  },
  {
   "cell_type": "code",
   "execution_count": null,
   "metadata": {},
   "outputs": [],
   "source": []
  }
 ],
 "metadata": {
  "kernelspec": {
   "display_name": "projectname",
   "language": "python",
   "name": "projectname"
  },
  "language_info": {
   "codemirror_mode": {
    "name": "ipython",
    "version": 3
   },
   "file_extension": ".py",
   "mimetype": "text/x-python",
   "name": "python",
   "nbconvert_exporter": "python",
   "pygments_lexer": "ipython3",
   "version": "3.7.0"
  }
 },
 "nbformat": 4,
 "nbformat_minor": 2
}
