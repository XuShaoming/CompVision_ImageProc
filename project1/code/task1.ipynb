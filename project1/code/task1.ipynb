{
 "cells": [
  {
   "cell_type": "code",
   "execution_count": 1,
   "metadata": {},
   "outputs": [],
   "source": [
    "import numpy as np\n",
    "import cv2\n",
    "import math\n",
    "import mynumpy as mnp"
   ]
  },
  {
   "cell_type": "code",
   "execution_count": 2,
   "metadata": {},
   "outputs": [],
   "source": [
    "VERTICAL_SOBEL_3BY3 = np.array([[1,0,-1],\n",
    "                          [2,0,-2],\n",
    "                          [1,0,-1]])"
   ]
  },
  {
   "cell_type": "code",
   "execution_count": 3,
   "metadata": {},
   "outputs": [],
   "source": [
    "HORIZONTAL_SOBEL_3BY3 = np.array([[1,2,1],\n",
    "                         [0,0,0],\n",
    "                         [-1,-2,-1]])"
   ]
  },
  {
   "cell_type": "code",
   "execution_count": 4,
   "metadata": {},
   "outputs": [],
   "source": [
    "def texture_filtering(img_gray, kernel):\n",
    "    \"\"\"\n",
    "    Purpose:\n",
    "        use to filter the gray image given the kernel\n",
    "    Input:\n",
    "        img_gray: \n",
    "            an two dimension ndarray matrix, dtype:usually is uint8 representint the gray image.\n",
    "        kernel: \n",
    "            a two dimension ndarray matrix\n",
    "    Output:\n",
    "        The filtered image without padding around.\n",
    "    \"\"\"\n",
    "    row_pad = math.floor(kernel.shape[0] / 2)\n",
    "    col_pad = math.floor(kernel.shape[1] / 2)\n",
    "    \n",
    "    img_gray = np.ndarray.tolist(img_gray)\n",
    "    img_gray = np.asarray(mnp.pad(img_gray, row_pad, row_pad, col_pad, col_pad, 0))\n",
    "    img_res = np.asarray(mnp.zeros(img_gray.shape[0], img_gray.shape[1]))\n",
    "    \n",
    "    flipped_kernel = np.asarray((mnp.flip(np.ndarray.tolist(kernel))))\n",
    "    for i in range(row_pad, img_gray.shape[0] - row_pad):\n",
    "        for j in range(col_pad, img_gray.shape[1] - col_pad):\n",
    "            patch = mnp.inner_product(img_gray[i-row_pad:i+row_pad+1, j-col_pad:j+col_pad+1], flipped_kernel)\n",
    "            img_res[i,j] = mnp.sum_all(patch)\n",
    "    return img_res[row_pad: img_res.shape[0] - row_pad, col_pad:img_res.shape[1] - col_pad]"
   ]
  },
  {
   "cell_type": "code",
   "execution_count": 5,
   "metadata": {},
   "outputs": [],
   "source": [
    "def eliminate_zero(img, method=1):\n",
    "    \"\"\"\n",
    "    Purpose:\n",
    "        two ways to eliminate the negative value or the value out of 255.\n",
    "    Input:\n",
    "        img: two dimension matrix\n",
    "            the raw image. dtype usually is float64 with pixel < 0 or pixel > 255\n",
    "        method: int\n",
    "            default is 1 which directs to first method\n",
    "            the 2 will direct to the second method.\n",
    "    Output:\n",
    "        a matrix dtype range zero to one. \n",
    "    \"\"\"\n",
    "    if method == 1:\n",
    "        return (img - mnp.min_all(img)) / (mnp.max_all(img) - mnp.min_all(img))\n",
    "    elif method == 2:\n",
    "        return np.asarray(mnp.abs_all(img)) / mnp.max_all(mnp.abs_all(img))\n",
    "    else :\n",
    "        print(\"method is 1 or 2\")"
   ]
  },
  {
   "cell_type": "code",
   "execution_count": 6,
   "metadata": {},
   "outputs": [],
   "source": [
    "# magnitude of edges (conbining horizontal and vertical edges)\n",
    "def magnitude_edges(edge_x, edge_y):\n",
    "    \"\"\"\n",
    "    Purpose: \n",
    "        Combine the vertical image and horizontal image.\n",
    "    Input:\n",
    "        edge_x: two dimension matrix\n",
    "            the image filted by VERTICAL_SOBEL\n",
    "        edge_y: two dimension matrix\n",
    "            the image filted by HORIZONTAL_SOBEL\n",
    "    Output:\n",
    "        edge_magnitude: two dimension matrix\n",
    "            the image combined by edge_x and edge_y\n",
    "        \n",
    "    \"\"\"\n",
    "    edge_magnitude = np.sqrt(edge_x ** 2 + edge_y ** 2)\n",
    "    edge_magnitude /= mnp.max_all(edge_magnitude)\n",
    "    return edge_magnitude"
   ]
  },
  {
   "cell_type": "code",
   "execution_count": 7,
   "metadata": {},
   "outputs": [],
   "source": [
    "def direction_edge(edge_x, edge_y):\n",
    "    edge_direction = np.arctan(edge_y / (edge_x + 1e-3)) * 180. / np.pi\n",
    "    edge_direction /= mnp.max_all(edge_direction)\n",
    "    return edge_direction"
   ]
  },
  {
   "cell_type": "code",
   "execution_count": 13,
   "metadata": {},
   "outputs": [
    {
     "name": "stdout",
     "output_type": "stream",
     "text": [
      "Original image size:  600 x  900\n",
      "Resulting image size:  600 x  900\n"
     ]
    }
   ],
   "source": [
    "img = cv2.imread(\"../task1_img/task1.png\", 0)\n",
    "cv2.namedWindow('image', cv2.WINDOW_NORMAL)\n",
    "cv2.imshow('image', img)\n",
    "cv2.waitKey(0)\n",
    "cv2.destroyAllWindows()\n",
    "name = \"../task1_img\" + \"/image\" + \".png\"\n",
    "cv2.imwrite(name, img)\n",
    "\n",
    "# Computing vertical edges\n",
    "edge_x = texture_filtering(img,VERTICAL_SOBEL_3BY3)\n",
    "cv2.namedWindow('edge_x_dir', cv2.WINDOW_NORMAL)\n",
    "cv2.imshow('edge_x_dir', edge_x)\n",
    "cv2.waitKey(0)\n",
    "cv2.destroyAllWindows()\n",
    "name = \"../task1_img\" + \"/edge_x\" + \".png\"\n",
    "cv2.imwrite(name, edge_x)\n",
    "\n",
    "# Eliminate zero values with method 1\n",
    "pos_edge_x_1 = eliminate_zero(edge_x, 1)\n",
    "cv2.namedWindow('pos_edge_x_dir', cv2.WINDOW_NORMAL)\n",
    "cv2.imshow('pos_edge_x_dir', pos_edge_x_1)\n",
    "cv2.waitKey(0)\n",
    "cv2.destroyAllWindows()\n",
    "name = \"../task1_img\" + \"/pos_edge_x_1\" + \".png\"\n",
    "cv2.imwrite(name, pos_edge_x_1 * 255)\n",
    "\n",
    "# Eliminate zero values with method 2\n",
    "pos_edge_x_2 = eliminate_zero(edge_x, 2)\n",
    "cv2.namedWindow('pos_edge_x_dir', cv2.WINDOW_NORMAL)\n",
    "cv2.imshow('pos_edge_x_dir', pos_edge_x_2)\n",
    "cv2.waitKey(0)\n",
    "cv2.destroyAllWindows()\n",
    "name = \"../task1_img\" + \"/pos_edge_x_2\" + \".png\"\n",
    "cv2.imwrite(name, pos_edge_x_2 * 255)\n",
    "\n",
    "# Computing horizontal edges\n",
    "edge_y = texture_filtering(img,HORIZONTAL_SOBEL_3BY3)\n",
    "cv2.namedWindow('edge_y_dir', cv2.WINDOW_NORMAL)\n",
    "cv2.imshow('edge_y_dir', edge_y)\n",
    "cv2.waitKey(0)\n",
    "cv2.destroyAllWindows()\n",
    "name = \"../task1_img\" + \"/edge_y\" + \".png\"\n",
    "cv2.imwrite(name, edge_y)\n",
    "\n",
    "# Eliminate zero values with method 1\n",
    "pos_edge_y_1 = eliminate_zero(edge_y, 1)\n",
    "cv2.namedWindow('pos_edge_y_dir', cv2.WINDOW_NORMAL)\n",
    "cv2.imshow('pos_edge_y_dir', pos_edge_y_1)\n",
    "cv2.waitKey(0)\n",
    "cv2.destroyAllWindows()\n",
    "name = \"../task1_img\" + \"/pos_edge_y_1\" + \".png\"\n",
    "cv2.imwrite(name, pos_edge_y_1 * 255)\n",
    "\n",
    "# Eliminate zero values with method 2\n",
    "pos_edge_y_2 = eliminate_zero(edge_y, 2)\n",
    "cv2.namedWindow('pos_edge_y_dir', cv2.WINDOW_NORMAL)\n",
    "cv2.imshow('pos_edge_y_dir', pos_edge_y_2)\n",
    "cv2.waitKey(0)\n",
    "cv2.destroyAllWindows()\n",
    "name = \"../task1_img\" + \"/pos_edge_y_2\" + \".png\"\n",
    "cv2.imwrite(name, pos_edge_y_2 * 255)\n",
    "\n",
    "# magnitude of edges (conbining horizontal and vertical edges)\n",
    "edge_magnitude = magnitude_edges(edge_x, edge_y)\n",
    "cv2.namedWindow('edge_magnitude', cv2.WINDOW_NORMAL)\n",
    "cv2.imshow('edge_magnitude', edge_magnitude)\n",
    "cv2.waitKey(0)\n",
    "cv2.destroyAllWindows()\n",
    "name = \"../task1_img\" + \"/edge_magnitude\" + \".png\"\n",
    "cv2.imwrite(name, edge_magnitude * 255)\n",
    "\n",
    "edge_direction = direction_edge(edge_x, edge_y)\n",
    "cv2.namedWindow('edge_direction', cv2.WINDOW_NORMAL)\n",
    "cv2.imshow('edge_direction', edge_direction)\n",
    "cv2.waitKey(0)\n",
    "cv2.destroyAllWindows()\n",
    "name = \"../task1_img\" + \"/edge_direction\" + \".png\"\n",
    "cv2.imwrite(name, edge_direction * 255)\n",
    "\n",
    "\n",
    "print(\"Original image size: {:4d} x {:4d}\".format(img.shape[0], img.shape[1]))\n",
    "print(\"Resulting image size: {:4d} x {:4d}\".format(edge_magnitude.shape[0], edge_magnitude.shape[1]))"
   ]
  },
  {
   "cell_type": "code",
   "execution_count": null,
   "metadata": {},
   "outputs": [],
   "source": []
  }
 ],
 "metadata": {
  "kernelspec": {
   "display_name": "projectname",
   "language": "python",
   "name": "projectname"
  },
  "language_info": {
   "codemirror_mode": {
    "name": "ipython",
    "version": 3
   },
   "file_extension": ".py",
   "mimetype": "text/x-python",
   "name": "python",
   "nbconvert_exporter": "python",
   "pygments_lexer": "ipython3",
   "version": "3.7.0"
  }
 },
 "nbformat": 4,
 "nbformat_minor": 2
}
