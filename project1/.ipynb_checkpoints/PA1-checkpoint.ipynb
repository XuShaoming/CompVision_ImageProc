{
 "cells": [
  {
   "cell_type": "code",
   "execution_count": 52,
   "metadata": {},
   "outputs": [],
   "source": [
    "import numpy as np\n",
    "import cv2\n",
    "import math"
   ]
  },
  {
   "cell_type": "code",
   "execution_count": 53,
   "metadata": {},
   "outputs": [],
   "source": [
    "VERTICAL_SOBEL_3BY3 = np.array([[1,0,-1],\n",
    "                          [2,0,-2],\n",
    "                          [1,0,-1]])"
   ]
  },
  {
   "cell_type": "code",
   "execution_count": 54,
   "metadata": {},
   "outputs": [],
   "source": [
    "HORIZONTAL_SOBEL_3BY3 = np.array([[1,2,1],\n",
    "                         [0,0,0],\n",
    "                         [-1,-2,-1]])"
   ]
  },
  {
   "cell_type": "code",
   "execution_count": 55,
   "metadata": {},
   "outputs": [],
   "source": [
    "def texture_filtering(img_gray, kernel):\n",
    "    row_pad = math.floor(kernel.shape[0] / 2)\n",
    "    col_pad = math.floor(kernel.shape[1] / 2)\n",
    "    img_gray = np.pad(img_gray, ((row_pad,row_pad),(col_pad, col_pad)), 'constant')\n",
    "    img_res = np.zeros(img_gray.shape)\n",
    "    flipped_kernel = np.flip(kernel)\n",
    "    for i in np.arange(row_pad, img_gray.shape[0] - row_pad):\n",
    "        for j in np.arange(col_pad, img_gray.shape[1] - col_pad):\n",
    "            img_res[i,j] = np.sum(img_gray[i-row_pad:i+row_pad+1, j-col_pad:j+col_pad+1] * flipped_kernel)\n",
    "    return img_res[row_pad: img_res.shape[0] - row_pad, col_pad:img_res.shape[1] - col_pad]"
   ]
  },
  {
   "cell_type": "code",
   "execution_count": 56,
   "metadata": {},
   "outputs": [],
   "source": [
    "def eliminate_zero(img, method=1):\n",
    "    if method == 1:\n",
    "        return (img - np.min(img)) / (np.max(img) - np.min(img))\n",
    "    elif method == 2:\n",
    "        return np.abs(edge_x) / np.max(np.abs(edge_x))\n",
    "    else :\n",
    "        print(\"method is 1 or 2\")"
   ]
  },
  {
   "cell_type": "code",
   "execution_count": 57,
   "metadata": {},
   "outputs": [],
   "source": [
    "# magnitude of edges (conbining horizontal and vertical edges)\n",
    "def magnitude_edges(edge_x, edge_y):\n",
    "    edge_magnitude = np.sqrt(edge_x ** 2 + edge_y ** 2)\n",
    "    edge_magnitude /= np.max(edge_magnitude)\n",
    "    return edge_magnitude"
   ]
  },
  {
   "cell_type": "code",
   "execution_count": 58,
   "metadata": {},
   "outputs": [],
   "source": [
    "def direction_edge(edge_x, edge_y):\n",
    "    edge_direction = np.arctan(edge_y / (edge_x + 1e-3)) * 180. / np.pi\n",
    "    edge_direction /= np.max(edge_direction)\n",
    "    return edge_direction"
   ]
  },
  {
   "cell_type": "code",
   "execution_count": 60,
   "metadata": {},
   "outputs": [
    {
     "name": "stdout",
     "output_type": "stream",
     "text": [
      "Original image size:  600 x  900\n",
      "Resulting image size:  600 x  900\n"
     ]
    }
   ],
   "source": [
    "img = cv2.imread(\"task1.png\", 0)\n",
    "# Computing vertical edges\n",
    "edge_x = texture_filtering(img,VERTICAL_SOBEL_3BY3)\n",
    "cv2.namedWindow('edge_x_dir', cv2.WINDOW_NORMAL)\n",
    "cv2.imshow('edge_x_dir', edge_x)\n",
    "cv2.waitKey(0)\n",
    "cv2.destroyAllWindows()\n",
    "\n",
    "# Eliminate zero values with method 1\n",
    "pos_edge_x = eliminate_zero(edge_x, 1)\n",
    "cv2.namedWindow('pos_edge_x_dir', cv2.WINDOW_NORMAL)\n",
    "cv2.imshow('pos_edge_x_dir', pos_edge_x)\n",
    "cv2.waitKey(0)\n",
    "cv2.destroyAllWindows()\n",
    "\n",
    "# Eliminate zero values with method 2\n",
    "pos_edge_x = eliminate_zero(edge_x, 2)\n",
    "cv2.namedWindow('pos_edge_x_dir', cv2.WINDOW_NORMAL)\n",
    "cv2.imshow('pos_edge_x_dir', pos_edge_x)\n",
    "cv2.waitKey(0)\n",
    "cv2.destroyAllWindows()\n",
    "\n",
    "# Computing horizontal edges\n",
    "edge_y = texture_filtering(img,HORIZONTAL_SOBEL_3BY3)\n",
    "cv2.namedWindow('edge_y_dir', cv2.WINDOW_NORMAL)\n",
    "cv2.imshow('edge_y_dir', edge_y)\n",
    "cv2.waitKey(0)\n",
    "cv2.destroyAllWindows()\n",
    "\n",
    "# Eliminate zero values with method 1\n",
    "pos_edge_y = eliminate_zero(edge_y, 1)\n",
    "cv2.namedWindow('pos_edge_y_dir', cv2.WINDOW_NORMAL)\n",
    "cv2.imshow('pos_edge_y_dir', pos_edge_y)\n",
    "cv2.waitKey(0)\n",
    "cv2.destroyAllWindows()\n",
    "\n",
    "# Eliminate zero values with method 2\n",
    "pos_edge_y = eliminate_zero(edge_y, 2)\n",
    "cv2.namedWindow('pos_edge_y_dir', cv2.WINDOW_NORMAL)\n",
    "cv2.imshow('pos_edge_y_dir', pos_edge_y)\n",
    "cv2.waitKey(0)\n",
    "cv2.destroyAllWindows()\n",
    "\n",
    "# magnitude of edges (conbining horizontal and vertical edges)\n",
    "edge_magnitude = magnitude_edges(edge_x, edge_y)\n",
    "cv2.namedWindow('edge_magnitude', cv2.WINDOW_NORMAL)\n",
    "cv2.imshow('edge_magnitude', edge_magnitude)\n",
    "cv2.waitKey(0)\n",
    "cv2.destroyAllWindows()\n",
    "\n",
    "edge_direction = direction_edge(edge_x, edge_y)\n",
    "cv2.namedWindow('edge_direction', cv2.WINDOW_NORMAL)\n",
    "cv2.imshow('edge_direction', edge_direction)\n",
    "cv2.waitKey(0)\n",
    "cv2.destroyAllWindows()\n",
    "\n",
    "\n",
    "print(\"Original image size: {:4d} x {:4d}\".format(img.shape[0], img.shape[1]))\n",
    "print(\"Resulting image size: {:4d} x {:4d}\".format(edge_magnitude.shape[0], edge_magnitude.shape[1]))"
   ]
  },
  {
   "cell_type": "code",
   "execution_count": null,
   "metadata": {},
   "outputs": [],
   "source": []
  }
 ],
 "metadata": {
  "kernelspec": {
   "display_name": "projectname",
   "language": "python",
   "name": "projectname"
  },
  "language_info": {
   "codemirror_mode": {
    "name": "ipython",
    "version": 3
   },
   "file_extension": ".py",
   "mimetype": "text/x-python",
   "name": "python",
   "nbconvert_exporter": "python",
   "pygments_lexer": "ipython3",
   "version": "3.7.0"
  }
 },
 "nbformat": 4,
 "nbformat_minor": 2
}
